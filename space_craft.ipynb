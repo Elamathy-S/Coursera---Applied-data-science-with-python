{
  "nbformat": 4,
  "nbformat_minor": 0,
  "metadata": {
    "colab": {
      "name": "space_craft.ipynb",
      "provenance": [],
      "collapsed_sections": [],
      "toc_visible": true,
      "include_colab_link": true
    },
    "kernelspec": {
      "name": "python3",
      "display_name": "Python 3"
    },
    "accelerator": "GPU"
  },
  "cells": [
    {
      "cell_type": "markdown",
      "metadata": {
        "id": "view-in-github",
        "colab_type": "text"
      },
      "source": [
        "<a href=\"https://colab.research.google.com/github/Elamathy-S/Coursera---Applied-data-science-with-python/blob/master/space_craft.ipynb\" target=\"_parent\"><img src=\"https://colab.research.google.com/assets/colab-badge.svg\" alt=\"Open In Colab\"/></a>"
      ]
    },
    {
      "cell_type": "markdown",
      "metadata": {
        "id": "DkxgYWASDAGz"
      },
      "source": [
        "# Modified Squeezenet\n",
        " "
      ]
    },
    {
      "cell_type": "code",
      "metadata": {
        "colab": {
          "base_uri": "https://localhost:8080/"
        },
        "id": "D7XIFwbQ6qsb",
        "outputId": "512ffc7b-d895-4ec7-8340-fad3c7a64427"
      },
      "source": [
        "!pip install pipreqs"
      ],
      "execution_count": null,
      "outputs": [
        {
          "output_type": "stream",
          "text": [
            "Collecting pipreqs\n",
            "  Downloading https://files.pythonhosted.org/packages/9b/83/b1560948400a07ec094a15c2f64587b70e1a5ab5f7b375ba902fcab5b6c3/pipreqs-0.4.10-py2.py3-none-any.whl\n",
            "Requirement already satisfied: docopt in /usr/local/lib/python3.7/dist-packages (from pipreqs) (0.6.2)\n",
            "Collecting yarg\n",
            "  Downloading https://files.pythonhosted.org/packages/8b/90/89a2ff242ccab6a24fbab18dbbabc67c51a6f0ed01f9a0f41689dc177419/yarg-0.1.9-py2.py3-none-any.whl\n",
            "Requirement already satisfied: requests in /usr/local/lib/python3.7/dist-packages (from yarg->pipreqs) (2.23.0)\n",
            "Requirement already satisfied: urllib3!=1.25.0,!=1.25.1,<1.26,>=1.21.1 in /usr/local/lib/python3.7/dist-packages (from requests->yarg->pipreqs) (1.24.3)\n",
            "Requirement already satisfied: chardet<4,>=3.0.2 in /usr/local/lib/python3.7/dist-packages (from requests->yarg->pipreqs) (3.0.4)\n",
            "Requirement already satisfied: certifi>=2017.4.17 in /usr/local/lib/python3.7/dist-packages (from requests->yarg->pipreqs) (2020.12.5)\n",
            "Requirement already satisfied: idna<3,>=2.5 in /usr/local/lib/python3.7/dist-packages (from requests->yarg->pipreqs) (2.10)\n",
            "Installing collected packages: yarg, pipreqs\n",
            "Successfully installed pipreqs-0.4.10 yarg-0.1.9\n"
          ],
          "name": "stdout"
        }
      ]
    },
    {
      "cell_type": "code",
      "metadata": {
        "id": "AYXGfM4O6uNV"
      },
      "source": [
        "!pip freeze -> requirements.txt"
      ],
      "execution_count": null,
      "outputs": []
    },
    {
      "cell_type": "code",
      "metadata": {
        "colab": {
          "base_uri": "https://localhost:8080/"
        },
        "id": "fyCQnnApDHyw",
        "outputId": "6e755e9d-e5a5-43b6-f3ef-4c96b1f21e1f"
      },
      "source": [
        "#fixed version of tqdm output for Colab\n",
        "!pip install --force https://github.com/chengs/tqdm/archive/colab.zip\n",
        "#IGNORE restart runtime warning, it is indeed installed\n",
        "#missing a few extra packages that we will need later! \n",
        "!pip install efficientnet_pytorch\n",
        "!pip install tensorboardX"
      ],
      "execution_count": null,
      "outputs": [
        {
          "output_type": "stream",
          "text": [
            "Collecting https://github.com/chengs/tqdm/archive/colab.zip\n",
            "\u001b[?25l  Downloading https://github.com/chengs/tqdm/archive/colab.zip\n",
            "\u001b[K     - 256kB 10.4MB/s\n",
            "\u001b[?25hBuilding wheels for collected packages: tqdm\n",
            "  Building wheel for tqdm (setup.py) ... \u001b[?25l\u001b[?25hdone\n",
            "  Created wheel for tqdm: filename=tqdm-4.28.1-py2.py3-none-any.whl size=47879 sha256=50c625b07b2c036d840e058c19fe76f47193817ef6ec46d785e58c86b3198c19\n",
            "  Stored in directory: /tmp/pip-ephem-wheel-cache-qdl3ov_b/wheels/41/18/ee/d5dd158441b27965855b1bbae03fa2d8a91fe645c01b419896\n",
            "Successfully built tqdm\n",
            "\u001b[31mERROR: spacy 2.2.4 has requirement tqdm<5.0.0,>=4.38.0, but you'll have tqdm 4.28.1 which is incompatible.\u001b[0m\n",
            "\u001b[31mERROR: fbprophet 0.7.1 has requirement tqdm>=4.36.1, but you'll have tqdm 4.28.1 which is incompatible.\u001b[0m\n",
            "Installing collected packages: tqdm\n",
            "  Found existing installation: tqdm 4.41.1\n",
            "    Uninstalling tqdm-4.41.1:\n",
            "      Successfully uninstalled tqdm-4.41.1\n",
            "Successfully installed tqdm-4.28.1\n",
            "Collecting efficientnet_pytorch\n",
            "  Downloading https://files.pythonhosted.org/packages/2e/a0/dd40b50aebf0028054b6b35062948da01123d7be38d08b6b1e5435df6363/efficientnet_pytorch-0.7.1.tar.gz\n",
            "Requirement already satisfied: torch in /usr/local/lib/python3.7/dist-packages (from efficientnet_pytorch) (1.8.1+cu101)\n",
            "Requirement already satisfied: typing-extensions in /usr/local/lib/python3.7/dist-packages (from torch->efficientnet_pytorch) (3.7.4.3)\n",
            "Requirement already satisfied: numpy in /usr/local/lib/python3.7/dist-packages (from torch->efficientnet_pytorch) (1.19.5)\n",
            "Building wheels for collected packages: efficientnet-pytorch\n",
            "  Building wheel for efficientnet-pytorch (setup.py) ... \u001b[?25l\u001b[?25hdone\n",
            "  Created wheel for efficientnet-pytorch: filename=efficientnet_pytorch-0.7.1-cp37-none-any.whl size=16443 sha256=4e6c13c0e20abb38ebc62af131b25ba3a27a85419b0ea7a2c1fd9a6f2ea5049e\n",
            "  Stored in directory: /root/.cache/pip/wheels/84/27/aa/c46d23c4e8cc72d41283862b1437e0b3ad318417e8ed7d5921\n",
            "Successfully built efficientnet-pytorch\n",
            "Installing collected packages: efficientnet-pytorch\n",
            "Successfully installed efficientnet-pytorch-0.7.1\n",
            "Collecting tensorboardX\n",
            "\u001b[?25l  Downloading https://files.pythonhosted.org/packages/07/84/46421bd3e0e89a92682b1a38b40efc22dafb6d8e3d947e4ceefd4a5fabc7/tensorboardX-2.2-py2.py3-none-any.whl (120kB)\n",
            "\u001b[K     |████████████████████████████████| 122kB 8.1MB/s \n",
            "\u001b[?25hRequirement already satisfied: numpy in /usr/local/lib/python3.7/dist-packages (from tensorboardX) (1.19.5)\n",
            "Requirement already satisfied: protobuf>=3.8.0 in /usr/local/lib/python3.7/dist-packages (from tensorboardX) (3.12.4)\n",
            "Requirement already satisfied: setuptools in /usr/local/lib/python3.7/dist-packages (from protobuf>=3.8.0->tensorboardX) (57.0.0)\n",
            "Requirement already satisfied: six>=1.9 in /usr/local/lib/python3.7/dist-packages (from protobuf>=3.8.0->tensorboardX) (1.15.0)\n",
            "Installing collected packages: tensorboardX\n",
            "Successfully installed tensorboardX-2.2\n"
          ],
          "name": "stdout"
        }
      ]
    },
    {
      "cell_type": "code",
      "metadata": {
        "colab": {
          "base_uri": "https://localhost:8080/"
        },
        "id": "LxKJa0ytbKcH",
        "outputId": "3759e9d1-7720-4e2f-a475-50eab6b2fe37"
      },
      "source": [
        "!git clone https://github.com/myproject-01/space.git"
      ],
      "execution_count": null,
      "outputs": [
        {
          "output_type": "stream",
          "text": [
            "Cloning into 'space'...\n",
            "remote: Enumerating objects: 180, done.\u001b[K\n",
            "remote: Counting objects: 100% (180/180), done.\u001b[K\n",
            "remote: Compressing objects: 100% (88/88), done.\u001b[K\n",
            "remote: Total 180 (delta 90), reused 180 (delta 90), pack-reused 0\u001b[K\n",
            "Receiving objects: 100% (180/180), 23.64 MiB | 7.56 MiB/s, done.\n",
            "Resolving deltas: 100% (90/90), done.\n"
          ],
          "name": "stdout"
        }
      ]
    },
    {
      "cell_type": "code",
      "metadata": {
        "id": "nEv5mLz4hZNh",
        "colab": {
          "base_uri": "https://localhost:8080/"
        },
        "outputId": "7ed731b5-26e6-4b0e-d14a-9ee2571d7870"
      },
      "source": [
        "from google.colab import drive\n",
        "drive.mount('/content/drive')"
      ],
      "execution_count": null,
      "outputs": [
        {
          "output_type": "stream",
          "text": [
            "Mounted at /content/drive\n"
          ],
          "name": "stdout"
        }
      ]
    },
    {
      "cell_type": "markdown",
      "metadata": {
        "id": "knnFbw4d9qtd"
      },
      "source": [
        "# DATASET"
      ]
    },
    {
      "cell_type": "code",
      "metadata": {
        "id": "oaDJldHu9cQ3"
      },
      "source": [
        "import os\n",
        "import torch\n",
        "import numpy as np\n",
        "\n",
        "from torch.utils.data import Dataset, DataLoader\n",
        "from pycocotools.coco import COCO\n",
        "import cv2\n",
        "\n",
        "\n",
        "class CocoDataset(Dataset):\n",
        "    def __init__(self, root_dir, img_dir=\"images\", set_dir='train2017', transform=None):\n",
        "\n",
        "        self.root_dir = root_dir\n",
        "        self.img_dir = img_dir\n",
        "        self.set_name = set_dir\n",
        "        self.transform = transform\n",
        "\n",
        "        self.coco = COCO(os.path.join(self.root_dir, 'annotations', 'instances_' + self.set_name + '.json'))\n",
        "        self.image_ids = self.coco.getImgIds()\n",
        "\n",
        "        self.load_classes()\n",
        "\n",
        "    def load_classes(self):\n",
        "\n",
        "        # load class names (name -> label)\n",
        "        categories = self.coco.loadCats(self.coco.getCatIds())\n",
        "        categories.sort(key=lambda x: x['id'])\n",
        "\n",
        "        self.classes = {}\n",
        "        self.coco_labels = {}\n",
        "        self.coco_labels_inverse = {}\n",
        "        for c in categories:\n",
        "            self.coco_labels[len(self.classes)] = c['id']\n",
        "            self.coco_labels_inverse[c['id']] = len(self.classes)\n",
        "            self.classes[c['name']] = len(self.classes)\n",
        "\n",
        "        # also load the reverse (label -> name)\n",
        "        self.labels = {}\n",
        "        for key, value in self.classes.items():\n",
        "            self.labels[value] = key\n",
        "\n",
        "    def __len__(self):\n",
        "        return len(self.image_ids)\n",
        "\n",
        "    def __getitem__(self, idx):\n",
        "\n",
        "        img = self.load_image(idx)\n",
        "        annot = self.load_annotations(idx)\n",
        "        sample = {'img': img, 'annot': annot}\n",
        "        if self.transform:\n",
        "            sample = self.transform(sample)\n",
        "        return sample\n",
        "\n",
        "    def load_image(self, image_index):\n",
        "        image_info = self.coco.loadImgs(self.image_ids[image_index])[0]\n",
        "        path = os.path.join(self.root_dir, self.img_dir, self.set_name, image_info['file_name'])\n",
        "        img = cv2.imread(path)\n",
        "        img = cv2.cvtColor(img, cv2.COLOR_BGR2RGB)\n",
        "\n",
        "        # if len(img.shape) == 2:\n",
        "        #     img = skimage.color.gray2rgb(img)\n",
        "\n",
        "        return img.astype(np.float32) / 255.\n",
        "\n",
        "    def load_annotations(self, image_index):\n",
        "        # get ground truth annotations\n",
        "        annotations_ids = self.coco.getAnnIds(imgIds=self.image_ids[image_index], iscrowd=False)\n",
        "        annotations = np.zeros((0, 5))\n",
        "\n",
        "        # some images appear to miss annotations\n",
        "        if len(annotations_ids) == 0:\n",
        "            return annotations\n",
        "\n",
        "        # parse annotations\n",
        "        coco_annotations = self.coco.loadAnns(annotations_ids)\n",
        "        for idx, a in enumerate(coco_annotations):\n",
        "\n",
        "            # some annotations have basically no width / height, skip them\n",
        "            if a['area'] == 0:\n",
        "                continue\n",
        "            \n",
        "            if a['bbox'][2] < 1 or a['bbox'][3] < 1:\n",
        "                continue\n",
        "\n",
        "            annotation = np.zeros((1, 5))\n",
        "            annotation[0, :4] = a['bbox']\n",
        "            annotation[0, 4] = self.coco_label_to_label(a['category_id'])\n",
        "            annotations = np.append(annotations, annotation, axis=0)\n",
        "\n",
        "        # transform from [x, y, w, h] to [x1, y1, x2, y2]\n",
        "        annotations[:, 2] = annotations[:, 0] + annotations[:, 2]\n",
        "        annotations[:, 3] = annotations[:, 1] + annotations[:, 3]\n",
        "\n",
        "        return annotations\n",
        "\n",
        "    def coco_label_to_label(self, coco_label):\n",
        "        return self.coco_labels_inverse[coco_label]\n",
        "\n",
        "    def label_to_coco_label(self, label):\n",
        "        return self.coco_labels[label]\n",
        "\n",
        "    def num_classes(self):\n",
        "        return len(self.classes)\n",
        "\n",
        "\n",
        "def collater(data):\n",
        "    imgs = [s['img'] for s in data]\n",
        "    annots = [s['annot'] for s in data]\n",
        "    scales = [s['scale'] for s in data]\n",
        "\n",
        "    imgs = torch.from_numpy(np.stack(imgs, axis=0))\n",
        "\n",
        "    max_num_annots = max(annot.shape[0] for annot in annots)\n",
        "\n",
        "    if max_num_annots > 0:\n",
        "\n",
        "        annot_padded = torch.ones((len(annots), max_num_annots, 5)) * -1\n",
        "\n",
        "        if max_num_annots > 0:\n",
        "            for idx, annot in enumerate(annots):\n",
        "                if annot.shape[0] > 0:\n",
        "                    annot_padded[idx, :annot.shape[0], :] = annot\n",
        "    else:\n",
        "        annot_padded = torch.ones((len(annots), 1, 5)) * -1\n",
        "\n",
        "    imgs = imgs.permute(0, 3, 1, 2)\n",
        "\n",
        "    return {'img': imgs, 'annot': annot_padded, 'scale': scales}\n",
        "\n",
        "\n",
        "class Resizer(object):\n",
        "    \"\"\"Convert ndarrays in sample to Tensors.\"\"\"\n",
        "\n",
        "    def __call__(self, sample, common_size=512):\n",
        "        image, annots = sample['img'], sample['annot']\n",
        "        height, width, _ = image.shape\n",
        "        if height > width:\n",
        "            scale = common_size / height\n",
        "            resized_height = common_size\n",
        "            resized_width = int(width * scale)\n",
        "        else:\n",
        "            scale = common_size / width\n",
        "            resized_height = int(height * scale)\n",
        "            resized_width = common_size\n",
        "\n",
        "        image = cv2.resize(image, (resized_width, resized_height))\n",
        "\n",
        "        new_image = np.zeros((common_size, common_size, 3))\n",
        "        new_image[0:resized_height, 0:resized_width] = image\n",
        "\n",
        "        annots[:, :4] *= scale\n",
        "\n",
        "        return {'img': torch.from_numpy(new_image), 'annot': torch.from_numpy(annots), 'scale': scale}\n",
        "\n",
        "\n",
        "class Augmenter(object):\n",
        "    \"\"\"Convert ndarrays in sample to Tensors.\"\"\"\n",
        "\n",
        "    def __call__(self, sample, flip_x=0.5):\n",
        "        if np.random.rand() < flip_x:\n",
        "            image, annots = sample['img'], sample['annot']\n",
        "            image = image[:, ::-1, :]\n",
        "\n",
        "            rows, cols, channels = image.shape\n",
        "\n",
        "            x1 = annots[:, 0].copy()\n",
        "            x2 = annots[:, 2].copy()\n",
        "\n",
        "            x_tmp = x1.copy()\n",
        "\n",
        "            annots[:, 0] = cols - x2\n",
        "            annots[:, 2] = cols - x_tmp\n",
        "\n",
        "            sample = {'img': image, 'annot': annots}\n",
        "\n",
        "        return sample\n",
        "\n",
        "\n",
        "class Normalizer(object):\n",
        "\n",
        "    def __init__(self):\n",
        "        self.mean = np.array([[[0.485, 0.456, 0.406]]])\n",
        "        self.std = np.array([[[0.229, 0.224, 0.225]]])\n",
        "\n",
        "    def __call__(self, sample):\n",
        "        image, annots = sample['img'], sample['annot']\n",
        "\n",
        "        return {'img': ((image.astype(np.float32) - self.mean) / self.std), 'annot': annots}\n"
      ],
      "execution_count": null,
      "outputs": []
    },
    {
      "cell_type": "markdown",
      "metadata": {
        "id": "-vnEWZ2y9vVc"
      },
      "source": [
        "UTILS"
      ]
    },
    {
      "cell_type": "code",
      "metadata": {
        "id": "tFkmngIC9xge"
      },
      "source": [
        "import torch\n",
        "import torch.nn as nn\n",
        "import numpy as np\n",
        "\n",
        "\n",
        "class BBoxTransform(nn.Module):\n",
        "\n",
        "    def __init__(self, mean=None, std=None):\n",
        "        super(BBoxTransform, self).__init__()\n",
        "        if mean is None:\n",
        "            self.mean = torch.from_numpy(np.array([0, 0, 0, 0]).astype(np.float32))\n",
        "        else:\n",
        "            self.mean = mean\n",
        "        if std is None:\n",
        "            self.std = torch.from_numpy(np.array([0.1, 0.1, 0.2, 0.2]).astype(np.float32))\n",
        "        else:\n",
        "            self.std = std\n",
        "        if torch.cuda.is_available():\n",
        "            self.mean = self.mean.cuda()\n",
        "            self.std = self.std.cuda()\n",
        "\n",
        "    def forward(self, boxes, deltas):\n",
        "\n",
        "        widths = boxes[:, :, 2] - boxes[:, :, 0]\n",
        "        heights = boxes[:, :, 3] - boxes[:, :, 1]\n",
        "        ctr_x = boxes[:, :, 0] + 0.5 * widths\n",
        "        ctr_y = boxes[:, :, 1] + 0.5 * heights\n",
        "\n",
        "        dx = deltas[:, :, 0] * self.std[0] + self.mean[0]\n",
        "        dy = deltas[:, :, 1] * self.std[1] + self.mean[1]\n",
        "        dw = deltas[:, :, 2] * self.std[2] + self.mean[2]\n",
        "        dh = deltas[:, :, 3] * self.std[3] + self.mean[3]\n",
        "\n",
        "        pred_ctr_x = ctr_x + dx * widths\n",
        "        pred_ctr_y = ctr_y + dy * heights\n",
        "        pred_w = torch.exp(dw) * widths\n",
        "        pred_h = torch.exp(dh) * heights\n",
        "\n",
        "        pred_boxes_x1 = pred_ctr_x - 0.5 * pred_w\n",
        "        pred_boxes_y1 = pred_ctr_y - 0.5 * pred_h\n",
        "        pred_boxes_x2 = pred_ctr_x + 0.5 * pred_w\n",
        "        pred_boxes_y2 = pred_ctr_y + 0.5 * pred_h\n",
        "\n",
        "        pred_boxes = torch.stack([pred_boxes_x1, pred_boxes_y1, pred_boxes_x2, pred_boxes_y2], dim=2)\n",
        "\n",
        "        return pred_boxes\n",
        "\n",
        "\n",
        "class ClipBoxes(nn.Module):\n",
        "\n",
        "    def __init__(self):\n",
        "        super(ClipBoxes, self).__init__()\n",
        "\n",
        "    def forward(self, boxes, img):\n",
        "        batch_size, num_channels, height, width = img.shape\n",
        "\n",
        "        boxes[:, :, 0] = torch.clamp(boxes[:, :, 0], min=0)\n",
        "        boxes[:, :, 1] = torch.clamp(boxes[:, :, 1], min=0)\n",
        "\n",
        "        boxes[:, :, 2] = torch.clamp(boxes[:, :, 2], max=width)\n",
        "        boxes[:, :, 3] = torch.clamp(boxes[:, :, 3], max=height)\n",
        "\n",
        "        return boxes\n",
        "\n",
        "\n",
        "class Anchors(nn.Module):\n",
        "    def __init__(self, pyramid_levels=None, strides=None, sizes=None, ratios=None, scales=None):\n",
        "        super(Anchors, self).__init__()\n",
        "\n",
        "        if pyramid_levels is None:\n",
        "            self.pyramid_levels = [3, 4, 5, 6, 7]\n",
        "        if strides is None:\n",
        "            self.strides = [2 ** x for x in self.pyramid_levels]\n",
        "        if sizes is None:\n",
        "            self.sizes = [2 ** (x + 2) for x in self.pyramid_levels]\n",
        "        if ratios is None:\n",
        "            self.ratios = np.array([0.5, 1, 2])\n",
        "        if scales is None:\n",
        "            self.scales = np.array([2 ** 0, 2 ** (1.0 / 3.0), 2 ** (2.0 / 3.0)])\n",
        "\n",
        "    def forward(self, image):\n",
        "\n",
        "        image_shape = image.shape[2:]\n",
        "        image_shape = np.array(image_shape)\n",
        "        image_shapes = [(image_shape + 2 ** x - 1) // (2 ** x) for x in self.pyramid_levels]\n",
        "\n",
        "        all_anchors = np.zeros((0, 4)).astype(np.float32)\n",
        "\n",
        "        for idx, p in enumerate(self.pyramid_levels):\n",
        "            anchors = generate_anchors(base_size=self.sizes[idx], ratios=self.ratios, scales=self.scales)\n",
        "            shifted_anchors = shift(image_shapes[idx], self.strides[idx], anchors)\n",
        "            all_anchors = np.append(all_anchors, shifted_anchors, axis=0)\n",
        "\n",
        "        all_anchors = np.expand_dims(all_anchors, axis=0)\n",
        "\n",
        "        anchors = torch.from_numpy(all_anchors.astype(np.float32))\n",
        "        if torch.cuda.is_available():\n",
        "            anchors = anchors.cuda()\n",
        "        return anchors\n",
        "\n",
        "\n",
        "def generate_anchors(base_size=16, ratios=None, scales=None):\n",
        "    if ratios is None:\n",
        "        ratios = np.array([0.5, 1, 2])\n",
        "\n",
        "    if scales is None:\n",
        "        scales = np.array([2 ** 0, 2 ** (1.0 / 3.0), 2 ** (2.0 / 3.0)])\n",
        "\n",
        "    num_anchors = len(ratios) * len(scales)\n",
        "    anchors = np.zeros((num_anchors, 4))\n",
        "    anchors[:, 2:] = base_size * np.tile(scales, (2, len(ratios))).T\n",
        "    areas = anchors[:, 2] * anchors[:, 3]\n",
        "    anchors[:, 2] = np.sqrt(areas / np.repeat(ratios, len(scales)))\n",
        "    anchors[:, 3] = anchors[:, 2] * np.repeat(ratios, len(scales))\n",
        "    anchors[:, 0::2] -= np.tile(anchors[:, 2] * 0.5, (2, 1)).T\n",
        "    anchors[:, 1::2] -= np.tile(anchors[:, 3] * 0.5, (2, 1)).T\n",
        "\n",
        "    return anchors\n",
        "\n",
        "\n",
        "def compute_shape(image_shape, pyramid_levels):\n",
        "    image_shape = np.array(image_shape[:2])\n",
        "    image_shapes = [(image_shape + 2 ** x - 1) // (2 ** x) for x in pyramid_levels]\n",
        "    return image_shapes\n",
        "\n",
        "\n",
        "def shift(shape, stride, anchors):\n",
        "    shift_x = (np.arange(0, shape[1]) + 0.5) * stride\n",
        "    shift_y = (np.arange(0, shape[0]) + 0.5) * stride\n",
        "    shift_x, shift_y = np.meshgrid(shift_x, shift_y)\n",
        "    shifts = np.vstack((\n",
        "        shift_x.ravel(), shift_y.ravel(),\n",
        "        shift_x.ravel(), shift_y.ravel()\n",
        "    )).transpose()\n",
        "\n",
        "    A = anchors.shape[0]\n",
        "    K = shifts.shape[0]\n",
        "    all_anchors = (anchors.reshape((1, A, 4)) + shifts.reshape((1, K, 4)).transpose((1, 0, 2)))\n",
        "    all_anchors = all_anchors.reshape((K * A, 4))\n",
        "\n",
        "    return all_anchors\n"
      ],
      "execution_count": null,
      "outputs": []
    },
    {
      "cell_type": "markdown",
      "metadata": {
        "id": "B7guXUDr9vYN"
      },
      "source": [
        "# LOSS"
      ]
    },
    {
      "cell_type": "code",
      "metadata": {
        "id": "sH8Nvk1R-A1p"
      },
      "source": [
        "import torch\n",
        "import torch.nn as nn\n",
        "\n",
        "\n",
        "def calc_iou(a, b):\n",
        "\n",
        "    area = (b[:, 2] - b[:, 0]) * (b[:, 3] - b[:, 1])\n",
        "    iw = torch.min(torch.unsqueeze(a[:, 2], dim=1), b[:, 2]) - torch.max(torch.unsqueeze(a[:, 0], 1), b[:, 0])\n",
        "    ih = torch.min(torch.unsqueeze(a[:, 3], dim=1), b[:, 3]) - torch.max(torch.unsqueeze(a[:, 1], 1), b[:, 1])\n",
        "    iw = torch.clamp(iw, min=0)\n",
        "    ih = torch.clamp(ih, min=0)\n",
        "    ua = torch.unsqueeze((a[:, 2] - a[:, 0]) * (a[:, 3] - a[:, 1]), dim=1) + area - iw * ih\n",
        "    ua = torch.clamp(ua, min=1e-8)\n",
        "    intersection = iw * ih\n",
        "    IoU = intersection / ua\n",
        "\n",
        "    return IoU\n",
        "\n",
        "\n",
        "class FocalLoss(nn.Module):\n",
        "    def __init__(self):\n",
        "        super(FocalLoss, self).__init__()\n",
        "\n",
        "    def forward(self, classifications, regressions, anchors, annotations):\n",
        "        alpha = 0.25\n",
        "        gamma = 2.0\n",
        "        batch_size = classifications.shape[0]\n",
        "        classification_losses = []\n",
        "        regression_losses = []\n",
        "\n",
        "        anchor = anchors[0, :, :]\n",
        "\n",
        "        anchor_widths = anchor[:, 2] - anchor[:, 0]\n",
        "        anchor_heights = anchor[:, 3] - anchor[:, 1]\n",
        "        anchor_ctr_x = anchor[:, 0] + 0.5 * anchor_widths\n",
        "        anchor_ctr_y = anchor[:, 1] + 0.5 * anchor_heights\n",
        "\n",
        "        for j in range(batch_size):\n",
        "\n",
        "            classification = classifications[j, :, :]\n",
        "            regression = regressions[j, :, :]\n",
        "\n",
        "            bbox_annotation = annotations[j, :, :]\n",
        "            bbox_annotation = bbox_annotation[bbox_annotation[:, 4] != -1]\n",
        "\n",
        "            if bbox_annotation.shape[0] == 0:\n",
        "                if torch.cuda.is_available():\n",
        "                    regression_losses.append(torch.tensor(0).float().cuda())\n",
        "                    classification_losses.append(torch.tensor(0).float().cuda())\n",
        "                else:\n",
        "                    regression_losses.append(torch.tensor(0).float())\n",
        "                    classification_losses.append(torch.tensor(0).float())\n",
        "\n",
        "                continue\n",
        "\n",
        "            classification = torch.clamp(classification, 1e-4, 1.0 - 1e-4)\n",
        "\n",
        "            IoU = calc_iou(anchors[0, :, :], bbox_annotation[:, :4])\n",
        "\n",
        "            IoU_max, IoU_argmax = torch.max(IoU, dim=1)\n",
        "\n",
        "            # compute the loss for classification\n",
        "            targets = torch.ones(classification.shape) * -1\n",
        "            if torch.cuda.is_available():\n",
        "                targets = targets.cuda()\n",
        "\n",
        "            targets[torch.lt(IoU_max, 0.4), :] = 0\n",
        "\n",
        "            positive_indices = torch.ge(IoU_max, 0.5)\n",
        "\n",
        "            num_positive_anchors = positive_indices.sum()\n",
        "\n",
        "            assigned_annotations = bbox_annotation[IoU_argmax, :]\n",
        "\n",
        "            targets[positive_indices, :] = 0\n",
        "            targets[positive_indices, assigned_annotations[positive_indices, 4].long()] = 1\n",
        "\n",
        "            alpha_factor = torch.ones(targets.shape) * alpha\n",
        "            if torch.cuda.is_available():\n",
        "                alpha_factor = alpha_factor.cuda()\n",
        "\n",
        "            alpha_factor = torch.where(torch.eq(targets, 1.), alpha_factor, 1. - alpha_factor)\n",
        "            focal_weight = torch.where(torch.eq(targets, 1.), 1. - classification, classification)\n",
        "            focal_weight = alpha_factor * torch.pow(focal_weight, gamma)\n",
        "\n",
        "            bce = -(targets * torch.log(classification) + (1.0 - targets) * torch.log(1.0 - classification))\n",
        "\n",
        "            cls_loss = focal_weight * bce\n",
        "\n",
        "            zeros = torch.zeros(cls_loss.shape)\n",
        "            if torch.cuda.is_available():\n",
        "                zeros = zeros.cuda()\n",
        "            cls_loss = torch.where(torch.ne(targets, -1.0), cls_loss, zeros)\n",
        "\n",
        "            classification_losses.append(cls_loss.sum() / torch.clamp(num_positive_anchors.float(), min=1.0))\n",
        "\n",
        "\n",
        "            if positive_indices.sum() > 0:\n",
        "                assigned_annotations = assigned_annotations[positive_indices, :]\n",
        "\n",
        "                anchor_widths_pi = anchor_widths[positive_indices]\n",
        "                anchor_heights_pi = anchor_heights[positive_indices]\n",
        "                anchor_ctr_x_pi = anchor_ctr_x[positive_indices]\n",
        "                anchor_ctr_y_pi = anchor_ctr_y[positive_indices]\n",
        "\n",
        "                gt_widths = assigned_annotations[:, 2] - assigned_annotations[:, 0]\n",
        "                gt_heights = assigned_annotations[:, 3] - assigned_annotations[:, 1]\n",
        "                gt_ctr_x = assigned_annotations[:, 0] + 0.5 * gt_widths\n",
        "                gt_ctr_y = assigned_annotations[:, 1] + 0.5 * gt_heights\n",
        "\n",
        "                gt_widths = torch.clamp(gt_widths, min=1)\n",
        "                gt_heights = torch.clamp(gt_heights, min=1)\n",
        "\n",
        "                targets_dx = (gt_ctr_x - anchor_ctr_x_pi) / anchor_widths_pi\n",
        "                targets_dy = (gt_ctr_y - anchor_ctr_y_pi) / anchor_heights_pi\n",
        "                targets_dw = torch.log(gt_widths / anchor_widths_pi)\n",
        "                targets_dh = torch.log(gt_heights / anchor_heights_pi)\n",
        "\n",
        "                targets = torch.stack((targets_dx, targets_dy, targets_dw, targets_dh))\n",
        "                targets = targets.t()\n",
        "\n",
        "                norm = torch.Tensor([[0.1, 0.1, 0.2, 0.2]])\n",
        "                if torch.cuda.is_available():\n",
        "                    norm = norm.cuda()\n",
        "                targets = targets / norm\n",
        "\n",
        "                regression_diff = torch.abs(targets - regression[positive_indices, :])\n",
        "\n",
        "                regression_loss = torch.where(\n",
        "                    torch.le(regression_diff, 1.0 / 9.0),\n",
        "                    0.5 * 9.0 * torch.pow(regression_diff, 2),\n",
        "                    regression_diff - 0.5 / 9.0\n",
        "                )\n",
        "                regression_losses.append(regression_loss.mean())\n",
        "            else:\n",
        "                if torch.cuda.is_available():\n",
        "                    regression_losses.append(torch.tensor(0).float().cuda())\n",
        "                else:\n",
        "                    regression_losses.append(torch.tensor(0).float())\n",
        "\n",
        "        return torch.stack(classification_losses).mean(dim=0, keepdim=True), torch.stack(regression_losses).mean(dim=0,\n",
        "                                                                                                                 keepdim=True)\n"
      ],
      "execution_count": null,
      "outputs": []
    },
    {
      "cell_type": "markdown",
      "metadata": {
        "id": "bjE42sxV-F68"
      },
      "source": [
        "# MODEL"
      ]
    },
    {
      "cell_type": "code",
      "metadata": {
        "colab": {
          "base_uri": "https://localhost:8080/",
          "height": 122
        },
        "id": "Zp_9y7BH-L5Z",
        "outputId": "8fc77f03-dd1e-4fb5-c50a-c90ea3950b2e"
      },
      "source": [
        "import torch.nn as nn\n",
        "import torch\n",
        "import math\n",
        "from efficientnet_pytorch import EfficientNet as EffNet\n",
        "from torchvision.ops.boxes import nms as nms_torch\n",
        "\n",
        "\n",
        "def nms(dets, thresh):\n",
        "    return nms_torch(dets[:, :4], dets[:, 4], thresh)\n",
        "\n",
        "\n",
        "class ConvBlock(nn.Module):\n",
        "    def __init__(self, num_channels):\n",
        "        super(ConvBlock, self).__init__()\n",
        "        self.conv = nn.Sequential(\n",
        "            nn.Conv2d(num_channels, num_channels, kernel_size=3, stride=1, padding=1, groups=num_channels),\n",
        "            nn.Conv2d(num_channels, num_channels, kernel_size=1, stride=1, padding=0),\n",
        "            nn.BatchNorm2d(num_features=num_channels, momentum=0.9997, eps=4e-5), nn.ReLU())\n",
        "\n",
        "    def forward(self, input):\n",
        "        return self.conv(input)\n",
        "\n",
        "\n",
        "class BiFPN(nn.Module):\n",
        "    def __init__(self, num_channels, epsilon=1e-4):\n",
        "        super(BiFPN, self).__init__()\n",
        "        self.epsilon = epsilon\n",
        "        # Conv layers\n",
        "        self.conv6_up = ConvBlock(num_channels)\n",
        "        self.conv5_up = ConvBlock(num_channels)\n",
        "        self.conv4_up = ConvBlock(num_channels)\n",
        "        self.conv3_up = ConvBlock(num_channels)\n",
        "        self.conv4_down = ConvBlock(num_channels)\n",
        "        self.conv5_down = ConvBlock(num_channels)\n",
        "        self.conv6_down = ConvBlock(num_channels)\n",
        "        self.conv7_down = ConvBlock(num_channels)\n",
        "\n",
        "        # Feature scaling layers\n",
        "        self.p6_upsample = nn.Upsample(scale_factor=2, mode='nearest')\n",
        "        self.p5_upsample = nn.Upsample(scale_factor=2, mode='nearest')\n",
        "        self.p4_upsample = nn.Upsample(scale_factor=2, mode='nearest')\n",
        "        self.p3_upsample = nn.Upsample(scale_factor=2, mode='nearest')\n",
        "\n",
        "        self.p4_downsample = nn.MaxPool2d(kernel_size=2)\n",
        "        self.p5_downsample = nn.MaxPool2d(kernel_size=2)\n",
        "        self.p6_downsample = nn.MaxPool2d(kernel_size=2)\n",
        "        self.p7_downsample = nn.MaxPool2d(kernel_size=2)\n",
        "\n",
        "        # Weight\n",
        "        self.p6_w1 = nn.Parameter(torch.ones(2))\n",
        "        self.p6_w1_relu = nn.ReLU()\n",
        "        self.p5_w1 = nn.Parameter(torch.ones(2))\n",
        "        self.p5_w1_relu = nn.ReLU()\n",
        "        self.p4_w1 = nn.Parameter(torch.ones(2))\n",
        "        self.p4_w1_relu = nn.ReLU()\n",
        "        self.p3_w1 = nn.Parameter(torch.ones(2))\n",
        "        self.p3_w1_relu = nn.ReLU()\n",
        "\n",
        "        self.p4_w2 = nn.Parameter(torch.ones(3))\n",
        "        self.p4_w2_relu = nn.ReLU()\n",
        "        self.p5_w2 = nn.Parameter(torch.ones(3))\n",
        "        self.p5_w2_relu = nn.ReLU()\n",
        "        self.p6_w2 = nn.Parameter(torch.ones(3))\n",
        "        self.p6_w2_relu = nn.ReLU()\n",
        "        self.p7_w2 = nn.Parameter(torch.ones(2))\n",
        "        self.p7_w2_relu = nn.ReLU()\n",
        "\n",
        "    def forward(self, inputs):\n",
        "        \"\"\"\n",
        "            P7_0 -------------------------- P7_2 -------->\n",
        "\n",
        "            P6_0 ---------- P6_1 ---------- P6_2 -------->\n",
        "\n",
        "            P5_0 ---------- P5_1 ---------- P5_2 -------->\n",
        "\n",
        "            P4_0 ---------- P4_1 ---------- P4_2 -------->\n",
        "\n",
        "            P3_0 -------------------------- P3_2 -------->\n",
        "        \"\"\"\n",
        "\n",
        "        # P3_0, P4_0, P5_0, P6_0 and P7_0\n",
        "        p3_in, p4_in, p5_in, p6_in, p7_in = inputs\n",
        "        # P7_0 to P7_2\n",
        "        # Weights for P6_0 and P7_0 to P6_1\n",
        "        p6_w1 = self.p6_w1_relu(self.p6_w1)\n",
        "        weight = p6_w1 / (torch.sum(p6_w1, dim=0) + self.epsilon)\n",
        "        # Connections for P6_0 and P7_0 to P6_1 respectively\n",
        "        p6_up = self.conv6_up(weight[0] * p6_in + weight[1] * self.p6_upsample(p7_in))\n",
        "        # Weights for P5_0 and P6_0 to P5_1\n",
        "        p5_w1 = self.p5_w1_relu(self.p5_w1)\n",
        "        weight = p5_w1 / (torch.sum(p5_w1, dim=0) + self.epsilon)\n",
        "        # Connections for P5_0 and P6_0 to P5_1 respectively\n",
        "        p5_up = self.conv5_up(weight[0] * p5_in + weight[1] * self.p5_upsample(p6_up))\n",
        "        # Weights for P4_0 and P5_0 to P4_1\n",
        "        p4_w1 = self.p4_w1_relu(self.p4_w1)\n",
        "        weight = p4_w1 / (torch.sum(p4_w1, dim=0) + self.epsilon)\n",
        "        # Connections for P4_0 and P5_0 to P4_1 respectively\n",
        "        p4_up = self.conv4_up(weight[0] * p4_in + weight[1] * self.p4_upsample(p5_up))\n",
        "\n",
        "        # Weights for P3_0 and P4_1 to P3_2\n",
        "        p3_w1 = self.p3_w1_relu(self.p3_w1)\n",
        "        weight = p3_w1 / (torch.sum(p3_w1, dim=0) + self.epsilon)\n",
        "        # Connections for P3_0 and P4_1 to P3_2 respectively\n",
        "        p3_out = self.conv3_up(weight[0] * p3_in + weight[1] * self.p3_upsample(p4_up))\n",
        "\n",
        "        # Weights for P4_0, P4_1 and P3_2 to P4_2\n",
        "        p4_w2 = self.p4_w2_relu(self.p4_w2)\n",
        "        weight = p4_w2 / (torch.sum(p4_w2, dim=0) + self.epsilon)\n",
        "        # Connections for P4_0, P4_1 and P3_2 to P4_2 respectively\n",
        "        p4_out = self.conv4_down(\n",
        "            weight[0] * p4_in + weight[1] * p4_up + weight[2] * self.p4_downsample(p3_out))\n",
        "        # Weights for P5_0, P5_1 and P4_2 to P5_2\n",
        "        p5_w2 = self.p5_w2_relu(self.p5_w2)\n",
        "        weight = p5_w2 / (torch.sum(p5_w2, dim=0) + self.epsilon)\n",
        "        # Connections for P5_0, P5_1 and P4_2 to P5_2 respectively\n",
        "        p5_out = self.conv5_down(\n",
        "            weight[0] * p5_in + weight[1] * p5_up + weight[2] * self.p5_downsample(p4_out))\n",
        "        # Weights for P6_0, P6_1 and P5_2 to P6_2\n",
        "        p6_w2 = self.p6_w2_relu(self.p6_w2)\n",
        "        weight = p6_w2 / (torch.sum(p6_w2, dim=0) + self.epsilon)\n",
        "        # Connections for P6_0, P6_1 and P5_2 to P6_2 respectively\n",
        "        p6_out = self.conv6_down(\n",
        "            weight[0] * p6_in + weight[1] * p6_up + weight[2] * self.p6_downsample(p5_out))\n",
        "        # Weights for P7_0 and P6_2 to P7_2\n",
        "        p7_w2 = self.p7_w2_relu(self.p7_w2)\n",
        "        weight = p7_w2 / (torch.sum(p7_w2, dim=0) + self.epsilon)\n",
        "        # Connections for P7_0 and P6_2 to P7_2\n",
        "        p7_out = self.conv7_down(weight[0] * p7_in + weight[1] * self.p7_downsample(p6_out))\n",
        "\n",
        "        return p3_out, p4_out, p5_out, p6_out, p7_out\n",
        "\n",
        "\n",
        "class Regressor(nn.Module):\n",
        "    def __init__(self, in_channels, num_anchors, num_layers):\n",
        "        super(Regressor, self).__init__()\n",
        "        layers = []\n",
        "        for _ in range(num_layers):\n",
        "            layers.append(nn.Conv2d(in_channels, in_channels, kernel_size=3, stride=1, padding=1))\n",
        "            layers.append(nn.ReLU(True))\n",
        "        self.layers = nn.Sequential(*layers)\n",
        "        self.header = nn.Conv2d(in_channels, num_anchors * 4, kernel_size=3, stride=1, padding=1)\n",
        "\n",
        "    def forward(self, inputs):\n",
        "        inputs = self.layers(inputs)\n",
        "        inputs = self.header(inputs)\n",
        "        output = inputs.permute(0, 2, 3, 1)\n",
        "        return output.contiguous().view(output.shape[0], -1, 4)\n",
        "\n",
        "\n",
        "class Classifier(nn.Module):\n",
        "    def __init__(self, in_channels, num_anchors, num_classes, num_layers):\n",
        "        super(Classifier, self).__init__()\n",
        "        self.num_anchors = num_anchors\n",
        "        self.num_classes = num_classes\n",
        "        layers = []\n",
        "        for _ in range(num_layers):\n",
        "            layers.append(nn.Conv2d(in_channels, in_channels, kernel_size=3, stride=1, padding=1))\n",
        "            layers.append(nn.ReLU(True))\n",
        "        self.layers = nn.Sequential(*layers)\n",
        "        self.header = nn.Conv2d(in_channels, num_anchors * num_classes, kernel_size=3, stride=1, padding=1)\n",
        "        self.act = nn.Sigmoid()\n",
        "\n",
        "    def forward(self, inputs):\n",
        "        inputs = self.layers(inputs)\n",
        "        inputs = self.header(inputs)\n",
        "        inputs = self.act(inputs)\n",
        "        inputs = inputs.permute(0, 2, 3, 1)\n",
        "        output = inputs.contiguous().view(inputs.shape[0], inputs.shape[1], inputs.shape[2], self.num_anchors,\n",
        "                                          self.num_classes)\n",
        "        return output.contiguous().view(output.shape[0], -1, self.num_classes)\n",
        "\n",
        "\n",
        "class EfficientNet(nn.Module):\n",
        "    def __init__(self, ):\n",
        "        super(EfficientNet, self).__init__()\n",
        "        model = EffNet.from_pretrained('efficientnet-b0')\n",
        "        del model._conv_head\n",
        "        del model._bn1\n",
        "        del model._avg_pooling\n",
        "        del model._dropout\n",
        "        del model._fc\n",
        "        self.model = model\n",
        "\n",
        "    def forward(self, x):\n",
        "        x = self.model._swish(self.model._bn0(self.model._conv_stem(x)))\n",
        "        feature_maps = []\n",
        "        for idx, block in enumerate(self.model._blocks):\n",
        "            drop_connect_rate = self.model._global_params.drop_connect_rate\n",
        "            if drop_connect_rate:\n",
        "                drop_connect_rate *= float(idx) / len(self.model._blocks)\n",
        "            x = block(x, drop_connect_rate=drop_connect_rate)\n",
        "            if block._depthwise_conv.stride == [2, 2]:\n",
        "                feature_maps.append(x)\n",
        "\n",
        "        return feature_maps[1:]\n",
        "\n",
        "\n",
        "class EfficientDet(nn.Module):\n",
        "    def __init__(self, num_anchors=9, num_classes=20, compound_coef=0):\n",
        "        super(EfficientDet, self).__init__()\n",
        "        self.compound_coef = compound_coef\n",
        "\n",
        "        self.num_channels = [64, 88, 112, 160, 224, 288, 384, 384][self.compound_coef]\n",
        "\n",
        "        self.conv3 = nn.Conv2d(40, self.num_channels, kernel_size=1, stride=1, padding=0)\n",
        "        self.conv4 = nn.Conv2d(80, self.num_channels, kernel_size=1, stride=1, padding=0)\n",
        "        self.conv5 = nn.Conv2d(192, self.num_channels, kernel_size=1, stride=1, padding=0)\n",
        "        self.conv6 = nn.Conv2d(192, self.num_channels, kernel_size=3, stride=2, padding=1)\n",
        "        self.conv7 = nn.Sequential(nn.ReLU(),\n",
        "                                   nn.Conv2d(self.num_channels, self.num_channels, kernel_size=3, stride=2, padding=1))\n",
        "\n",
        "        self.bifpn = nn.Sequential(*[BiFPN(self.num_channels) for _ in range(min(2 + self.compound_coef, 8))])\n",
        "\n",
        "        self.num_classes = num_classes\n",
        "        self.regressor = Regressor(in_channels=self.num_channels, num_anchors=num_anchors,\n",
        "                                   num_layers=3 + self.compound_coef // 3)\n",
        "        self.classifier = Classifier(in_channels=self.num_channels, num_anchors=num_anchors, num_classes=num_classes,\n",
        "                                     num_layers=3 + self.compound_coef // 3)\n",
        "\n",
        "        self.anchors = Anchors()\n",
        "        self.regressBoxes = BBoxTransform()\n",
        "        self.clipBoxes = ClipBoxes()\n",
        "        self.focalLoss = FocalLoss()\n",
        "\n",
        "        for m in self.modules():\n",
        "            if isinstance(m, nn.Conv2d):\n",
        "                n = m.kernel_size[0] * m.kernel_size[1] * m.out_channels\n",
        "                m.weight.data.normal_(0, math.sqrt(2. / n))\n",
        "            elif isinstance(m, nn.BatchNorm2d):\n",
        "                m.weight.data.fill_(1)\n",
        "                m.bias.data.zero_()\n",
        "\n",
        "        prior = 0.01\n",
        "\n",
        "        self.classifier.header.weight.data.fill_(0)\n",
        "        self.classifier.header.bias.data.fill_(-math.log((1.0 - prior) / prior))\n",
        "\n",
        "        self.regressor.header.weight.data.fill_(0)\n",
        "        self.regressor.header.bias.data.fill_(0)\n",
        "\n",
        "        self.backbone_net = EfficientNet()\n",
        "\n",
        "    def freeze_bn(self):\n",
        "        for m in self.modules():\n",
        "            if isinstance(m, nn.BatchNorm2d):\n",
        "                m.eval()\n",
        "\n",
        "    def forward(self, inputs):\n",
        "        if len(inputs) == 2:\n",
        "            is_training = True\n",
        "            img_batch, annotations = inputs\n",
        "        else:\n",
        "            is_training = False\n",
        "            img_batch = inputs\n",
        "\n",
        "        c3, c4, c5 = self.backbone_net(img_batch)\n",
        "        p3 = self.conv3(c3)\n",
        "        p4 = self.conv4(c4)\n",
        "        p5 = self.conv5(c5)\n",
        "        p6 = self.conv6(c5)\n",
        "        p7 = self.conv7(p6)\n",
        "\n",
        "        features = [p3, p4, p5, p6, p7]\n",
        "        features = self.bifpn(features)\n",
        "\n",
        "        regression = torch.cat([self.regressor(feature) for feature in features], dim=1)\n",
        "        classification = torch.cat([self.classifier(feature) for feature in features], dim=1)\n",
        "        anchors = self.anchors(img_batch)\n",
        "\n",
        "        if is_training:\n",
        "            return self.focalLoss(classification, regression, anchors, annotations)\n",
        "        else:\n",
        "            transformed_anchors = self.regressBoxes(anchors, regression)\n",
        "            transformed_anchors = self.clipBoxes(transformed_anchors, img_batch)\n",
        "\n",
        "            scores = torch.max(classification, dim=2, keepdim=True)[0]\n",
        "\n",
        "            scores_over_thresh = (scores > 0.05)[0, :, 0]\n",
        "\n",
        "            if scores_over_thresh.sum() == 0:\n",
        "                return [torch.zeros(0), torch.zeros(0), torch.zeros(0, 4)]\n",
        "\n",
        "            classification = classification[:, scores_over_thresh, :]\n",
        "            transformed_anchors = transformed_anchors[:, scores_over_thresh, :]\n",
        "            scores = scores[:, scores_over_thresh, :]\n",
        "\n",
        "            anchors_nms_idx = nms(torch.cat([transformed_anchors, scores], dim=2)[0, :, :], 0.5)\n",
        "\n",
        "            nms_scores, nms_class = classification[0, anchors_nms_idx, :].max(dim=1)\n",
        "\n",
        "            return [nms_scores, nms_class, transformed_anchors[0, anchors_nms_idx, :]]\n",
        "\n",
        "\n",
        "if __name__ == '__main__':\n",
        "    from tensorboardX import SummaryWriter\n",
        "    def count_parameters(model):\n",
        "        return sum(p.numel() for p in model.parameters() if p.requires_grad)\n",
        "\n",
        "    model = EfficientDet(num_classes=80)\n",
        "    print (count_parameters(model))\n"
      ],
      "execution_count": null,
      "outputs": [
        {
          "output_type": "stream",
          "text": [
            "Downloading: \"https://github.com/lukemelas/EfficientNet-PyTorch/releases/download/1.0/efficientnet-b0-355c32eb.pth\" to /root/.cache/torch/hub/checkpoints/efficientnet-b0-355c32eb.pth\n"
          ],
          "name": "stderr"
        },
        {
          "output_type": "display_data",
          "data": {
            "text/html": [
              "<div style=\"display:flex;flex-direction:row;\"><span></span><progress style='margin:2px 4px;' max='21388428' value='21388428'></progress>100% 20.4M/20.4M [00:00&lt;00:00, 97.4MB/s]</div>"
            ],
            "text/plain": [
              "<tqdm._fake_ipywidgets.HBox object>"
            ]
          },
          "metadata": {
            "tags": []
          }
        },
        {
          "output_type": "stream",
          "text": [
            "\n",
            "Loaded pretrained weights for efficientnet-b0\n",
            "4499798\n"
          ],
          "name": "stdout"
        }
      ]
    },
    {
      "cell_type": "markdown",
      "metadata": {
        "id": "1Lm4ohZg-F-e"
      },
      "source": [
        "# Training Agent"
      ]
    },
    {
      "cell_type": "code",
      "metadata": {
        "id": "avBEBUWv-T8P"
      },
      "source": [
        "import os\n",
        "import argparse\n",
        "import torch\n",
        "import torch.nn as nn\n",
        "from torch.utils.data import DataLoader\n",
        "from torchvision import transforms\n",
        "from tensorboardX import SummaryWriter\n",
        "import shutil\n",
        "import numpy as np\n",
        "from tqdm.autonotebook import tqdm\n",
        "\n",
        "\n",
        "class Detector():\n",
        "    def __init__(self, verbose=1):\n",
        "        self.system_dict = {};\n",
        "        self.system_dict[\"verbose\"] = verbose;\n",
        "        self.system_dict[\"local\"] = {};\n",
        "        self.system_dict[\"dataset\"] = {};\n",
        "        self.system_dict[\"dataset\"][\"train\"] = {};\n",
        "        self.system_dict[\"dataset\"][\"val\"] = {};\n",
        "        self.system_dict[\"dataset\"][\"val\"][\"status\"] = False;\n",
        "\n",
        "        self.system_dict[\"params\"] = {};\n",
        "        self.system_dict[\"params\"][\"image_size\"] = 512;\n",
        "        self.system_dict[\"params\"][\"batch_size\"] = 8;\n",
        "        self.system_dict[\"params\"][\"num_workers\"] = 3;\n",
        "        self.system_dict[\"params\"][\"use_gpu\"] = True;\n",
        "        self.system_dict[\"params\"][\"gpu_devices\"] = [0];\n",
        "        self.system_dict[\"params\"][\"lr\"] = 0.0001;\n",
        "        self.system_dict[\"params\"][\"num_epochs\"] = 10;\n",
        "        self.system_dict[\"params\"][\"val_interval\"] = 1;\n",
        "        self.system_dict[\"params\"][\"es_min_delta\"] = 0.0;\n",
        "        self.system_dict[\"params\"][\"es_patience\"] = 0;\n",
        "\n",
        "\n",
        "        self.system_dict[\"output\"] = {};\n",
        "        self.system_dict[\"output\"][\"log_path\"] = \"tensorboard/signatrix_efficientdet_coco\";\n",
        "        self.system_dict[\"output\"][\"saved_path\"] = \"trained/\";\n",
        "        self.system_dict[\"output\"][\"best_epoch\"] = 0;\n",
        "        self.system_dict[\"output\"][\"best_loss\"] = 1e5;\n",
        "\n",
        "\n",
        "\n",
        "    def Train_Dataset(self, root_dir, coco_dir, img_dir, set_dir, batch_size=8, image_size=512, use_gpu=True, num_workers=3):\n",
        "        self.system_dict[\"dataset\"][\"train\"][\"root_dir\"] = root_dir;\n",
        "        self.system_dict[\"dataset\"][\"train\"][\"coco_dir\"] = coco_dir;\n",
        "        self.system_dict[\"dataset\"][\"train\"][\"img_dir\"] = img_dir;\n",
        "        self.system_dict[\"dataset\"][\"train\"][\"set_dir\"] = set_dir;\n",
        "\n",
        "\n",
        "        self.system_dict[\"params\"][\"batch_size\"] = batch_size;\n",
        "        self.system_dict[\"params\"][\"image_size\"] = image_size;\n",
        "        self.system_dict[\"params\"][\"use_gpu\"] = use_gpu;\n",
        "        self.system_dict[\"params\"][\"num_workers\"] = num_workers;\n",
        "\n",
        "        if(self.system_dict[\"params\"][\"use_gpu\"]):\n",
        "            if torch.cuda.is_available():\n",
        "                self.system_dict[\"local\"][\"num_gpus\"] = torch.cuda.device_count()\n",
        "                torch.cuda.manual_seed(123)\n",
        "            else:\n",
        "                self.system_dict[\"local\"][\"num_gpus\"] = 1\n",
        "                torch.manual_seed(123)\n",
        "\n",
        "        self.system_dict[\"local\"][\"training_params\"] = {\"batch_size\": self.system_dict[\"params\"][\"batch_size\"] * self.system_dict[\"local\"][\"num_gpus\"],\n",
        "                                                           \"shuffle\": True,\n",
        "                                                           \"drop_last\": True,\n",
        "                                                           \"collate_fn\": collater,\n",
        "                                                           \"num_workers\": self.system_dict[\"params\"][\"num_workers\"]}\n",
        "\n",
        "        self.system_dict[\"local\"][\"training_set\"] = CocoDataset(root_dir=self.system_dict[\"dataset\"][\"train\"][\"root_dir\"] + \"/\" + self.system_dict[\"dataset\"][\"train\"][\"coco_dir\"],\n",
        "                                                            img_dir = self.system_dict[\"dataset\"][\"train\"][\"img_dir\"],\n",
        "                                                            set_dir = self.system_dict[\"dataset\"][\"train\"][\"set_dir\"],\n",
        "                                                            transform = transforms.Compose([Normalizer(), Augmenter(), Resizer()]))\n",
        "        \n",
        "        self.system_dict[\"local\"][\"training_generator\"] = DataLoader(self.system_dict[\"local\"][\"training_set\"], \n",
        "                                                                    **self.system_dict[\"local\"][\"training_params\"]);\n",
        "\n",
        "\n",
        "    def Val_Dataset(self, root_dir, coco_dir, img_dir, set_dir):\n",
        "        self.system_dict[\"dataset\"][\"val\"][\"status\"] = True;\n",
        "        self.system_dict[\"dataset\"][\"val\"][\"root_dir\"] = root_dir;\n",
        "        self.system_dict[\"dataset\"][\"val\"][\"coco_dir\"] = coco_dir;\n",
        "        self.system_dict[\"dataset\"][\"val\"][\"img_dir\"] = img_dir;\n",
        "        self.system_dict[\"dataset\"][\"val\"][\"set_dir\"] = set_dir;     \n",
        "\n",
        "        self.system_dict[\"local\"][\"val_params\"] = {\"batch_size\": self.system_dict[\"params\"][\"batch_size\"],\n",
        "                                                   \"shuffle\": False,\n",
        "                                                   \"drop_last\": False,\n",
        "                                                   \"collate_fn\": collater,\n",
        "                                                   \"num_workers\": self.system_dict[\"params\"][\"num_workers\"]}\n",
        "\n",
        "        self.system_dict[\"local\"][\"val_set\"] = CocoDataset(root_dir=self.system_dict[\"dataset\"][\"val\"][\"root_dir\"] + \"/\" + self.system_dict[\"dataset\"][\"val\"][\"coco_dir\"], \n",
        "                                                    img_dir = self.system_dict[\"dataset\"][\"val\"][\"img_dir\"],\n",
        "                                                    set_dir = self.system_dict[\"dataset\"][\"val\"][\"set_dir\"],\n",
        "                                                    transform=transforms.Compose([Normalizer(), Resizer()]))\n",
        "        \n",
        "        self.system_dict[\"local\"][\"test_generator\"] = DataLoader(self.system_dict[\"local\"][\"val_set\"], \n",
        "                                                                **self.system_dict[\"local\"][\"val_params\"])\n",
        "\n",
        "\n",
        "    def Model(self,gpu_devices=[0]):\n",
        "        num_classes = self.system_dict[\"local\"][\"training_set\"].num_classes();\n",
        "        efficientdet = EfficientDet(num_classes=num_classes)\n",
        "\n",
        "        if self.system_dict[\"params\"][\"use_gpu\"]:\n",
        "            self.system_dict[\"params\"][\"gpu_devices\"] = gpu_devices\n",
        "            if len(self.system_dict[\"params\"][\"gpu_devices\"])==1:\n",
        "                os.environ[\"CUDA_VISIBLE_DEVICES\"] = str(self.system_dict[\"params\"][\"gpu_devices\"][0])\n",
        "            else:\n",
        "                os.environ[\"CUDA_VISIBLE_DEVICES\"] = ','.join([str(id) for id in self.system_dict[\"params\"][\"gpu_devices\"]])\n",
        "            self.system_dict[\"local\"][\"device\"] = 'cuda' if torch.cuda.is_available() else 'cpu'\n",
        "            efficientdet = efficientdet.to(self.system_dict[\"local\"][\"device\"])\n",
        "            efficientdet= torch.nn.DataParallel(efficientdet).to(self.system_dict[\"local\"][\"device\"])\n",
        "\n",
        "        self.system_dict[\"local\"][\"model\"] = efficientdet;\n",
        "        self.system_dict[\"local\"][\"model\"].train();\n",
        "\n",
        "\n",
        "    def Set_Hyperparams(self, lr=0.0001, val_interval=1, es_min_delta=0.0, es_patience=0):\n",
        "        self.system_dict[\"params\"][\"lr\"] = lr;\n",
        "        self.system_dict[\"params\"][\"val_interval\"] = val_interval;\n",
        "        self.system_dict[\"params\"][\"es_min_delta\"] = es_min_delta;\n",
        "        self.system_dict[\"params\"][\"es_patience\"] = es_patience;\n",
        "\n",
        "\n",
        "        self.system_dict[\"local\"][\"optimizer\"] = torch.optim.Adam(self.system_dict[\"local\"][\"model\"].parameters(), \n",
        "                                                                    self.system_dict[\"params\"][\"lr\"]);\n",
        "\n",
        "        self.system_dict[\"local\"][\"scheduler\"] = torch.optim.lr_scheduler.ReduceLROnPlateau(self.system_dict[\"local\"][\"optimizer\"], \n",
        "                                                                    patience=3, verbose=True)\n",
        "\n",
        "\n",
        "    def Train(self, num_epochs=2, model_output_dir=\"trained/\"):\n",
        "        self.system_dict[\"output\"][\"log_path\"] = \"tensorboard/signatrix_efficientdet_coco\";\n",
        "        self.system_dict[\"output\"][\"saved_path\"] = model_output_dir;\n",
        "        self.system_dict[\"params\"][\"num_epochs\"] = num_epochs;\n",
        "\n",
        "        if os.path.isdir(self.system_dict[\"output\"][\"log_path\"]):\n",
        "            shutil.rmtree(self.system_dict[\"output\"][\"log_path\"])\n",
        "        os.makedirs(self.system_dict[\"output\"][\"log_path\"])\n",
        "\n",
        "        if os.path.isdir(self.system_dict[\"output\"][\"saved_path\"]):\n",
        "            shutil.rmtree(self.system_dict[\"output\"][\"saved_path\"])\n",
        "        os.makedirs(self.system_dict[\"output\"][\"saved_path\"])\n",
        "\n",
        "        writer = SummaryWriter(self.system_dict[\"output\"][\"log_path\"])\n",
        "\n",
        "        num_iter_per_epoch = len(self.system_dict[\"local\"][\"training_generator\"])\n",
        "\n",
        "        if(self.system_dict[\"dataset\"][\"val\"][\"status\"]):\n",
        "            \n",
        "            for epoch in range(self.system_dict[\"params\"][\"num_epochs\"]):\n",
        "                self.system_dict[\"local\"][\"model\"].train()\n",
        "\n",
        "                epoch_loss = []\n",
        "                progress_bar = tqdm(self.system_dict[\"local\"][\"training_generator\"])\n",
        "                for iter, data in enumerate(progress_bar):\n",
        "                    try:\n",
        "                        self.system_dict[\"local\"][\"optimizer\"].zero_grad()\n",
        "                        if torch.cuda.is_available():\n",
        "                            cls_loss, reg_loss = self.system_dict[\"local\"][\"model\"]([data['img'].to(self.system_dict[\"local\"][\"device\"]).float(), data['annot'].to(self.system_dict[\"local\"][\"device\"])])\n",
        "                        else:\n",
        "                            cls_loss, reg_loss = self.system_dict[\"local\"][\"model\"]([data['img'].float(), data['annot']])\n",
        "\n",
        "                        cls_loss = cls_loss.mean()\n",
        "                        reg_loss = reg_loss.mean()\n",
        "                        loss = cls_loss + reg_loss\n",
        "                        if loss == 0:\n",
        "                            continue\n",
        "                        loss.backward()\n",
        "                        torch.nn.utils.clip_grad_norm_(self.system_dict[\"local\"][\"model\"].parameters(), 0.1)\n",
        "                        self.system_dict[\"local\"][\"optimizer\"].step()\n",
        "                        epoch_loss.append(float(loss))\n",
        "                        total_loss = np.mean(epoch_loss)\n",
        "                        print( \n",
        "                            'Epoch: {}/{}. Iteration: {}/{}. Cls loss: {:.5f}. Reg loss: {:.5f}. Batch loss: {:.5f} Total loss: {:.5f}'.format(\n",
        "                                epoch + 1, self.system_dict[\"params\"][\"num_epochs\"], iter + 1, num_iter_per_epoch, cls_loss, reg_loss, loss,\n",
        "                                total_loss))\n",
        "                        progress_bar.set_description(\n",
        "                            'Epoch: {}/{}. Iteration: {}/{}. Cls loss: {:.5f}. Reg loss: {:.5f}. Batch loss: {:.5f} Total loss: {:.5f}'.format(\n",
        "                                epoch + 1, self.system_dict[\"params\"][\"num_epochs\"], iter + 1, num_iter_per_epoch, cls_loss, reg_loss, loss,\n",
        "                                total_loss))\n",
        "                        writer.add_scalar('Train/Total_loss', total_loss, epoch * num_iter_per_epoch + iter)\n",
        "                        writer.add_scalar('Train/Regression_loss', reg_loss, epoch * num_iter_per_epoch + iter)\n",
        "                        writer.add_scalar('Train/Classfication_loss (focal loss)', cls_loss, epoch * num_iter_per_epoch + iter)\n",
        "\n",
        "                    except Exception as e:\n",
        "                        print(e)\n",
        "                        continue\n",
        "                self.system_dict[\"local\"][\"scheduler\"].step(np.mean(epoch_loss))\n",
        "\n",
        "                if epoch % self.system_dict[\"params\"][\"val_interval\"] == 0:\n",
        "\n",
        "                    self.system_dict[\"local\"][\"model\"].eval()\n",
        "                    loss_regression_ls = []\n",
        "                    loss_classification_ls = []\n",
        "                    for iter, data in enumerate(self.system_dict[\"local\"][\"test_generator\"]):\n",
        "                        with torch.no_grad():\n",
        "                            if torch.cuda.is_available():\n",
        "                                cls_loss, reg_loss = self.system_dict[\"local\"][\"model\"]([data['img'].to(self.system_dict[\"local\"][\"device\"]).float(), data['annot'].to(self.system_dict[\"local\"][\"device\"])])\n",
        "                            else:\n",
        "                                cls_loss, reg_loss = self.system_dict[\"local\"][\"model\"]([data['img'].float(), data['annot']])\n",
        "\n",
        "                            cls_loss = cls_loss.mean()\n",
        "                            reg_loss = reg_loss.mean()\n",
        "\n",
        "                            loss_classification_ls.append(float(cls_loss))\n",
        "                            loss_regression_ls.append(float(reg_loss))\n",
        "\n",
        "                    cls_loss = np.mean(loss_classification_ls)\n",
        "                    reg_loss = np.mean(loss_regression_ls)\n",
        "                    loss = cls_loss + reg_loss\n",
        "\n",
        "                    print(\n",
        "                        'Epoch: {}/{}. Classification loss: {:1.5f}. Regression loss: {:1.5f}. Total loss: {:1.5f}'.format(\n",
        "                            epoch + 1, self.system_dict[\"params\"][\"num_epochs\"], cls_loss, reg_loss,\n",
        "                            np.mean(loss)))\n",
        "                    writer.add_scalar('Val/Total_loss', loss, epoch)\n",
        "                    writer.add_scalar('Val/Regression_loss', reg_loss, epoch)\n",
        "                    writer.add_scalar('Val/Classfication_loss (focal loss)', cls_loss, epoch)\n",
        "\n",
        "                    if loss + self.system_dict[\"params\"][\"es_min_delta\"] < self.system_dict[\"output\"][\"best_loss\"]:\n",
        "                        self.system_dict[\"output\"][\"best_loss\"] = loss\n",
        "                        self.system_dict[\"output\"][\"best_epoch\"] = epoch\n",
        "                        torch.save(self.system_dict[\"local\"][\"model\"], \n",
        "                            os.path.join(self.system_dict[\"output\"][\"saved_path\"], \"signatrix_efficientdet_coco.pth\"))\n",
        "\n",
        "                        dummy_input = torch.rand(1, 3, 512, 512)\n",
        "                        if torch.cuda.is_available():\n",
        "                            dummy_input = dummy_input.cuda()\n",
        "                        if isinstance(self.system_dict[\"local\"][\"model\"], nn.DataParallel):\n",
        "                            self.system_dict[\"local\"][\"model\"].module.backbone_net.model.set_swish(memory_efficient=False)\n",
        "\n",
        "                            torch.onnx.export(self.system_dict[\"local\"][\"model\"].module, dummy_input,\n",
        "                                              os.path.join(self.system_dict[\"output\"][\"saved_path\"], \"signatrix_efficientdet_coco.onnx\"),\n",
        "                                              verbose=False,\n",
        "                                              opset_version=11)\n",
        "                            self.system_dict[\"local\"][\"model\"].module.backbone_net.model.set_swish(memory_efficient=True)\n",
        "                        else:\n",
        "                            self.system_dict[\"local\"][\"model\"].backbone_net.model.set_swish(memory_efficient=False)\n",
        "\n",
        "                            torch.onnx.export(self.system_dict[\"local\"][\"model\"], dummy_input,\n",
        "                                              os.path.join(self.system_dict[\"output\"][\"saved_path\"], \"signatrix_efficientdet_coco.onnx\"),\n",
        "                                              verbose=False,\n",
        "                                              opset_version = 11)\n",
        "                            self.system_dict[\"local\"][\"model\"].backbone_net.model.set_swish(memory_efficient=True)\n",
        "\n",
        "                    # Early stopping\n",
        "                    if epoch - self.system_dict[\"output\"][\"best_epoch\"] > self.system_dict[\"params\"][\"es_patience\"] > 0:\n",
        "                        print(\"Stop training at epoch {}. The lowest loss achieved is {}\".format(epoch, loss))\n",
        "                        break\n",
        "\n",
        "        else:\n",
        "            for epoch in range(self.system_dict[\"params\"][\"num_epochs\"]):\n",
        "                self.system_dict[\"local\"][\"model\"].train()\n",
        "\n",
        "                epoch_loss = []\n",
        "                progress_bar = tqdm(self.system_dict[\"local\"][\"training_generator\"])\n",
        "                for iter, data in enumerate(progress_bar):\n",
        "                    try:\n",
        "                        self.system_dict[\"local\"][\"optimizer\"].zero_grad()\n",
        "                        if torch.cuda.is_available():\n",
        "                            cls_loss, reg_loss = self.system_dict[\"local\"][\"model\"]([data['img'].to(self.system_dict[\"local\"][\"device\"]).float(), data['annot'].to(self.system_dict[\"local\"][\"device\"])])\n",
        "                        else:\n",
        "                            cls_loss, reg_loss = self.system_dict[\"local\"][\"model\"]([data['img'].float(), data['annot']])\n",
        "\n",
        "                        cls_loss = cls_loss.mean()\n",
        "                        reg_loss = reg_loss.mean()\n",
        "                        loss = cls_loss + reg_loss\n",
        "                        if loss == 0:\n",
        "                            continue\n",
        "                        loss.backward()\n",
        "                        torch.nn.utils.clip_grad_norm_(self.system_dict[\"local\"][\"model\"].parameters(), 0.1)\n",
        "                        self.system_dict[\"local\"][\"optimizer\"].step()\n",
        "                        epoch_loss.append(float(loss))\n",
        "                        total_loss = np.mean(epoch_loss)\n",
        "\n",
        "                        progress_bar.set_description(\n",
        "                            'Epoch: {}/{}. Iteration: {}/{}. Cls loss: {:.5f}. Reg loss: {:.5f}. Batch loss: {:.5f} Total loss: {:.5f}'.format(\n",
        "                                epoch + 1, self.system_dict[\"params\"][\"num_epochs\"], iter + 1, num_iter_per_epoch, cls_loss, reg_loss, loss,\n",
        "                                total_loss))\n",
        "                        writer.add_scalar('Train/Total_loss', total_loss, epoch * num_iter_per_epoch + iter)\n",
        "                        writer.add_scalar('Train/Regression_loss', reg_loss, epoch * num_iter_per_epoch + iter)\n",
        "                        writer.add_scalar('Train/Classfication_loss (focal loss)', cls_loss, epoch * num_iter_per_epoch + iter)\n",
        "\n",
        "                    except Exception as e:\n",
        "                        print(e)\n",
        "                        continue\n",
        "                self.system_dict[\"local\"][\"scheduler\"].step(np.mean(epoch_loss))\n",
        "\n",
        "\n",
        "                torch.save(self.system_dict[\"local\"][\"model\"], \n",
        "                    os.path.join(self.system_dict[\"output\"][\"saved_path\"], \"signatrix_efficientdet_coco.pth\"))\n",
        "\n",
        "                dummy_input = torch.rand(1, 3, 512, 512)\n",
        "                if torch.cuda.is_available():\n",
        "                    dummy_input = dummy_input.to(self.system_dict[\"local\"][\"device\"])\n",
        "                if isinstance(self.system_dict[\"local\"][\"model\"], nn.DataParallel):\n",
        "                    self.system_dict[\"local\"][\"model\"].module.backbone_net.model.set_swish(memory_efficient=False)\n",
        "\n",
        "                    try:\n",
        "                        torch.onnx.export(self.system_dict[\"local\"][\"model\"].module, dummy_input,\n",
        "                                          os.path.join(self.system_dict[\"output\"][\"saved_path\"], \"signatrix_efficientdet_coco.onnx\"),\n",
        "                                          verbose=False,\n",
        "                                          opset_version=11)\n",
        "                    except:\n",
        "                        print('faild onnx export')\n",
        "                        continue\n",
        "                    self.system_dict[\"local\"][\"model\"].module.backbone_net.model.set_swish(memory_efficient=True)\n",
        "                else:\n",
        "                    self.system_dict[\"local\"][\"model\"].backbone_net.model.set_swish(memory_efficient=False)\n",
        "\n",
        "                    torch.onnx.export(self.system_dict[\"local\"][\"model\"], dummy_input,\n",
        "                                      os.path.join(self.system_dict[\"output\"][\"saved_path\"], \"signatrix_efficientdet_coco.onnx\"),\n",
        "                                      verbose=False,\n",
        "                                      opset_version=11)\n",
        "                    self.system_dict[\"local\"][\"model\"].backbone_net.model.set_swish(memory_efficient=True)\n",
        "\n",
        "\n",
        "        writer.close()\n"
      ],
      "execution_count": null,
      "outputs": []
    },
    {
      "cell_type": "code",
      "metadata": {
        "id": "zumCON4KQfnU"
      },
      "source": [
        ""
      ],
      "execution_count": null,
      "outputs": []
    },
    {
      "cell_type": "code",
      "metadata": {
        "colab": {
          "base_uri": "https://localhost:8080/"
        },
        "id": "I5l9rWmT-v-1",
        "outputId": "00d49794-ac0a-4146-d2d4-fe7b72fecbe0"
      },
      "source": [
        "gtf = Detector()\n",
        "\n",
        "#directs the model towards file structure\n",
        "root_dir = \"./\";\n",
        "coco_dir = \"space/Fruit\";\n",
        "img_dir = \"./\";\n",
        "set_dir = \"Images\";\n",
        "\n",
        "gtf.Train_Dataset(root_dir, coco_dir, img_dir, set_dir, batch_size=8, image_size=512, use_gpu=True, num_workers=4)\n",
        "gtf.Model()\n",
        "gtf.Set_Hyperparams(lr=0.0001, val_interval=1, es_min_delta=0.0, es_patience=0)\n"
      ],
      "execution_count": null,
      "outputs": [
        {
          "output_type": "stream",
          "text": [
            "loading annotations into memory...\n",
            "Done (t=0.01s)\n",
            "creating index...\n",
            "index created!\n",
            "Loaded pretrained weights for efficientnet-b0\n"
          ],
          "name": "stdout"
        },
        {
          "output_type": "stream",
          "text": [
            "/usr/local/lib/python3.7/dist-packages/torch/utils/data/dataloader.py:477: UserWarning: This DataLoader will create 4 worker processes in total. Our suggested max number of worker in current system is 2, which is smaller than what this DataLoader is going to create. Please be aware that excessive worker creation might get DataLoader running slow or even freeze, lower the worker number to avoid potential slowness/freeze if necessary.\n",
            "  cpuset_checked))\n"
          ],
          "name": "stderr"
        }
      ]
    },
    {
      "cell_type": "code",
      "metadata": {
        "id": "MFF9gdeJ_FNz",
        "colab": {
          "base_uri": "https://localhost:8080/",
          "height": 1000
        },
        "outputId": "7a2d8eb8-40ca-4ec1-8f19-8f0a67302a46"
      },
      "source": [
        "%%time\n",
        "gtf.Train(num_epochs=100, model_output_dir=\"drive/MyDrive/trained_weight/\");"
      ],
      "execution_count": null,
      "outputs": [
        {
          "output_type": "display_data",
          "data": {
            "text/html": [
              "<div style=\"display:flex;flex-direction:row;\"><span>Epoch: 1/100. Iteration: 16/16. Cls loss: 0.74195. Reg loss: 0.88077. Batch loss: 1.62271 Total loss: 1.87275</span><progress style='margin:2px 4px;description_width:initial;' max='16' value='16'></progress>100% 16/16 [00:29&lt;00:00,  1.79s/it]</div>"
            ],
            "text/plain": [
              "<tqdm._fake_ipywidgets.HBox object>"
            ]
          },
          "metadata": {
            "tags": []
          }
        },
        {
          "output_type": "stream",
          "text": [
            "/usr/local/lib/python3.7/dist-packages/torch/utils/data/dataloader.py:477: UserWarning: This DataLoader will create 4 worker processes in total. Our suggested max number of worker in current system is 2, which is smaller than what this DataLoader is going to create. Please be aware that excessive worker creation might get DataLoader running slow or even freeze, lower the worker number to avoid potential slowness/freeze if necessary.\n",
            "  cpuset_checked))\n"
          ],
          "name": "stderr"
        },
        {
          "output_type": "stream",
          "text": [
            "\n"
          ],
          "name": "stdout"
        },
        {
          "output_type": "stream",
          "text": [
            "/usr/local/lib/python3.7/dist-packages/ipykernel_launcher.py:84: TracerWarning: Converting a tensor to a Python integer might cause the trace to be incorrect. We can't record the data flow of Python values, so this value will be treated as a constant in the future. This means that the trace might not generalize to other inputs!\n",
            "/usr/local/lib/python3.7/dist-packages/ipykernel_launcher.py:96: TracerWarning: torch.from_numpy results are registered as constants in the trace. You can safely ignore this warning if you use this function to create tensors out of constant variables that would be the same every time you call this function. In any other case, this might cause the trace to be incorrect.\n",
            "/usr/local/lib/python3.7/dist-packages/ipykernel_launcher.py:280: TracerWarning: Converting a tensor to a Python boolean might cause the trace to be incorrect. We can't record the data flow of Python values, so this value will be treated as a constant in the future. This means that the trace might not generalize to other inputs!\n"
          ],
          "name": "stderr"
        },
        {
          "output_type": "display_data",
          "data": {
            "text/html": [
              "<div style=\"display:flex;flex-direction:row;\"><span>Epoch: 2/100. Iteration: 16/16. Cls loss: 0.37282. Reg loss: 0.79529. Batch loss: 1.16810 Total loss: 1.34164</span><progress style='margin:2px 4px;description_width:initial;' max='16' value='16'></progress>100% 16/16 [00:29&lt;00:00,  1.79s/it]</div>"
            ],
            "text/plain": [
              "<tqdm._fake_ipywidgets.HBox object>"
            ]
          },
          "metadata": {
            "tags": []
          }
        },
        {
          "output_type": "stream",
          "text": [
            "\n"
          ],
          "name": "stdout"
        },
        {
          "output_type": "display_data",
          "data": {
            "text/html": [
              "<div style=\"display:flex;flex-direction:row;\"><span>Epoch: 3/100. Iteration: 16/16. Cls loss: 0.28747. Reg loss: 0.60461. Batch loss: 0.89208 Total loss: 0.95898</span><progress style='margin:2px 4px;description_width:initial;' max='16' value='16'></progress>100% 16/16 [00:29&lt;00:00,  1.80s/it]</div>"
            ],
            "text/plain": [
              "<tqdm._fake_ipywidgets.HBox object>"
            ]
          },
          "metadata": {
            "tags": []
          }
        },
        {
          "output_type": "stream",
          "text": [
            "\n"
          ],
          "name": "stdout"
        },
        {
          "output_type": "display_data",
          "data": {
            "text/html": [
              "<div style=\"display:flex;flex-direction:row;\"><span>Epoch: 4/100. Iteration: 16/16. Cls loss: 0.24303. Reg loss: 0.41299. Batch loss: 0.65602 Total loss: 0.82356</span><progress style='margin:2px 4px;description_width:initial;' max='16' value='16'></progress>100% 16/16 [00:29&lt;00:00,  1.80s/it]</div>"
            ],
            "text/plain": [
              "<tqdm._fake_ipywidgets.HBox object>"
            ]
          },
          "metadata": {
            "tags": []
          }
        },
        {
          "output_type": "stream",
          "text": [
            "\n"
          ],
          "name": "stdout"
        },
        {
          "output_type": "display_data",
          "data": {
            "text/html": [
              "<div style=\"display:flex;flex-direction:row;\"><span>Epoch: 5/100. Iteration: 16/16. Cls loss: 0.16664. Reg loss: 0.44385. Batch loss: 0.61049 Total loss: 0.74072</span><progress style='margin:2px 4px;description_width:initial;' max='16' value='16'></progress>100% 16/16 [00:29&lt;00:00,  1.80s/it]</div>"
            ],
            "text/plain": [
              "<tqdm._fake_ipywidgets.HBox object>"
            ]
          },
          "metadata": {
            "tags": []
          }
        },
        {
          "output_type": "stream",
          "text": [
            "\n"
          ],
          "name": "stdout"
        },
        {
          "output_type": "display_data",
          "data": {
            "text/html": [
              "<div style=\"display:flex;flex-direction:row;\"><span>Epoch: 6/100. Iteration: 16/16. Cls loss: 0.20120. Reg loss: 0.45322. Batch loss: 0.65442 Total loss: 0.69949</span><progress style='margin:2px 4px;description_width:initial;' max='16' value='16'></progress>100% 16/16 [00:29&lt;00:00,  1.80s/it]</div>"
            ],
            "text/plain": [
              "<tqdm._fake_ipywidgets.HBox object>"
            ]
          },
          "metadata": {
            "tags": []
          }
        },
        {
          "output_type": "stream",
          "text": [
            "\n"
          ],
          "name": "stdout"
        },
        {
          "output_type": "display_data",
          "data": {
            "text/html": [
              "<div style=\"display:flex;flex-direction:row;\"><span>Epoch: 7/100. Iteration: 16/16. Cls loss: 0.17003. Reg loss: 0.40236. Batch loss: 0.57240 Total loss: 0.65084</span><progress style='margin:2px 4px;description_width:initial;' max='16' value='16'></progress>100% 16/16 [00:29&lt;00:00,  1.80s/it]</div>"
            ],
            "text/plain": [
              "<tqdm._fake_ipywidgets.HBox object>"
            ]
          },
          "metadata": {
            "tags": []
          }
        },
        {
          "output_type": "stream",
          "text": [
            "\n"
          ],
          "name": "stdout"
        },
        {
          "output_type": "display_data",
          "data": {
            "text/html": [
              "<div style=\"display:flex;flex-direction:row;\"><span>Epoch: 8/100. Iteration: 16/16. Cls loss: 0.24190. Reg loss: 0.40061. Batch loss: 0.64250 Total loss: 0.62492</span><progress style='margin:2px 4px;description_width:initial;' max='16' value='16'></progress>100% 16/16 [00:29&lt;00:00,  1.80s/it]</div>"
            ],
            "text/plain": [
              "<tqdm._fake_ipywidgets.HBox object>"
            ]
          },
          "metadata": {
            "tags": []
          }
        },
        {
          "output_type": "stream",
          "text": [
            "\n"
          ],
          "name": "stdout"
        },
        {
          "output_type": "display_data",
          "data": {
            "text/html": [
              "<div style=\"display:flex;flex-direction:row;\"><span>Epoch: 9/100. Iteration: 16/16. Cls loss: 0.22273. Reg loss: 0.48177. Batch loss: 0.70450 Total loss: 0.58830</span><progress style='margin:2px 4px;description_width:initial;' max='16' value='16'></progress>100% 16/16 [00:29&lt;00:00,  1.80s/it]</div>"
            ],
            "text/plain": [
              "<tqdm._fake_ipywidgets.HBox object>"
            ]
          },
          "metadata": {
            "tags": []
          }
        },
        {
          "output_type": "stream",
          "text": [
            "\n"
          ],
          "name": "stdout"
        },
        {
          "output_type": "display_data",
          "data": {
            "text/html": [
              "<div style=\"display:flex;flex-direction:row;\"><span>Epoch: 10/100. Iteration: 16/16. Cls loss: 0.15339. Reg loss: 0.33673. Batch loss: 0.49012 Total loss: 0.56875</span><progress style='margin:2px 4px;description_width:initial;' max='16' value='16'></progress>100% 16/16 [00:29&lt;00:00,  1.80s/it]</div>"
            ],
            "text/plain": [
              "<tqdm._fake_ipywidgets.HBox object>"
            ]
          },
          "metadata": {
            "tags": []
          }
        },
        {
          "output_type": "stream",
          "text": [
            "\n"
          ],
          "name": "stdout"
        },
        {
          "output_type": "stream",
          "text": [
            "/usr/local/lib/python3.7/dist-packages/torch/onnx/symbolic_opset9.py:2578: UserWarning: Exporting aten::index operator with indices of type Byte. Only 1-D indices are supported. In any other case, this will produce an incorrect ONNX graph.\n",
            "  warnings.warn(\"Exporting aten::index operator with indices of type Byte. \"\n",
            "/usr/local/lib/python3.7/dist-packages/torch/onnx/symbolic_opset9.py:662: UserWarning: This model contains a squeeze operation on dimension 1. If the model is intended to be used with dynamic input shapes, please use opset version 11 to export the model.\n",
            "  \"intended to be used with dynamic input shapes, please use opset version 11 to export the model.\")\n"
          ],
          "name": "stderr"
        },
        {
          "output_type": "display_data",
          "data": {
            "text/html": [
              "<div style=\"display:flex;flex-direction:row;\"><span>Epoch: 11/100. Iteration: 16/16. Cls loss: 0.11737. Reg loss: 0.35666. Batch loss: 0.47404 Total loss: 0.52304</span><progress style='margin:2px 4px;description_width:initial;' max='16' value='16'></progress>100% 16/16 [00:29&lt;00:00,  1.81s/it]</div>"
            ],
            "text/plain": [
              "<tqdm._fake_ipywidgets.HBox object>"
            ]
          },
          "metadata": {
            "tags": []
          }
        },
        {
          "output_type": "stream",
          "text": [
            "\n"
          ],
          "name": "stdout"
        },
        {
          "output_type": "display_data",
          "data": {
            "text/html": [
              "<div style=\"display:flex;flex-direction:row;\"><span>Epoch: 12/100. Iteration: 16/16. Cls loss: 0.13926. Reg loss: 0.34890. Batch loss: 0.48816 Total loss: 0.48913</span><progress style='margin:2px 4px;description_width:initial;' max='16' value='16'></progress>100% 16/16 [00:29&lt;00:00,  1.80s/it]</div>"
            ],
            "text/plain": [
              "<tqdm._fake_ipywidgets.HBox object>"
            ]
          },
          "metadata": {
            "tags": []
          }
        },
        {
          "output_type": "stream",
          "text": [
            "\n"
          ],
          "name": "stdout"
        },
        {
          "output_type": "display_data",
          "data": {
            "text/html": [
              "<div style=\"display:flex;flex-direction:row;\"><span>Epoch: 13/100. Iteration: 16/16. Cls loss: 0.11964. Reg loss: 0.23020. Batch loss: 0.34983 Total loss: 0.47086</span><progress style='margin:2px 4px;description_width:initial;' max='16' value='16'></progress>100% 16/16 [00:29&lt;00:00,  1.80s/it]</div>"
            ],
            "text/plain": [
              "<tqdm._fake_ipywidgets.HBox object>"
            ]
          },
          "metadata": {
            "tags": []
          }
        },
        {
          "output_type": "stream",
          "text": [
            "\n"
          ],
          "name": "stdout"
        },
        {
          "output_type": "display_data",
          "data": {
            "text/html": [
              "<div style=\"display:flex;flex-direction:row;\"><span>Epoch: 14/100. Iteration: 16/16. Cls loss: 0.13375. Reg loss: 0.27792. Batch loss: 0.41167 Total loss: 0.46266</span><progress style='margin:2px 4px;description_width:initial;' max='16' value='16'></progress>100% 16/16 [00:29&lt;00:00,  1.81s/it]</div>"
            ],
            "text/plain": [
              "<tqdm._fake_ipywidgets.HBox object>"
            ]
          },
          "metadata": {
            "tags": []
          }
        },
        {
          "output_type": "stream",
          "text": [
            "\n"
          ],
          "name": "stdout"
        },
        {
          "output_type": "display_data",
          "data": {
            "text/html": [
              "<div style=\"display:flex;flex-direction:row;\"><span>Epoch: 15/100. Iteration: 16/16. Cls loss: 0.11726. Reg loss: 0.31100. Batch loss: 0.42826 Total loss: 0.45502</span><progress style='margin:2px 4px;description_width:initial;' max='16' value='16'></progress>100% 16/16 [00:29&lt;00:00,  1.81s/it]</div>"
            ],
            "text/plain": [
              "<tqdm._fake_ipywidgets.HBox object>"
            ]
          },
          "metadata": {
            "tags": []
          }
        },
        {
          "output_type": "stream",
          "text": [
            "\n"
          ],
          "name": "stdout"
        },
        {
          "output_type": "display_data",
          "data": {
            "text/html": [
              "<div style=\"display:flex;flex-direction:row;\"><span>Epoch: 16/100. Iteration: 16/16. Cls loss: 0.08467. Reg loss: 0.24968. Batch loss: 0.33435 Total loss: 0.45738</span><progress style='margin:2px 4px;description_width:initial;' max='16' value='16'></progress>100% 16/16 [00:29&lt;00:00,  1.82s/it]</div>"
            ],
            "text/plain": [
              "<tqdm._fake_ipywidgets.HBox object>"
            ]
          },
          "metadata": {
            "tags": []
          }
        },
        {
          "output_type": "stream",
          "text": [
            "\n"
          ],
          "name": "stdout"
        },
        {
          "output_type": "display_data",
          "data": {
            "text/html": [
              "<div style=\"display:flex;flex-direction:row;\"><span>Epoch: 17/100. Iteration: 16/16. Cls loss: 0.08235. Reg loss: 0.25440. Batch loss: 0.33675 Total loss: 0.39464</span><progress style='margin:2px 4px;description_width:initial;' max='16' value='16'></progress>100% 16/16 [00:30&lt;00:00,  1.81s/it]</div>"
            ],
            "text/plain": [
              "<tqdm._fake_ipywidgets.HBox object>"
            ]
          },
          "metadata": {
            "tags": []
          }
        },
        {
          "output_type": "stream",
          "text": [
            "\n"
          ],
          "name": "stdout"
        },
        {
          "output_type": "display_data",
          "data": {
            "text/html": [
              "<div style=\"display:flex;flex-direction:row;\"><span>Epoch: 18/100. Iteration: 16/16. Cls loss: 0.10260. Reg loss: 0.22390. Batch loss: 0.32650 Total loss: 0.40143</span><progress style='margin:2px 4px;description_width:initial;' max='16' value='16'></progress>100% 16/16 [00:29&lt;00:00,  1.81s/it]</div>"
            ],
            "text/plain": [
              "<tqdm._fake_ipywidgets.HBox object>"
            ]
          },
          "metadata": {
            "tags": []
          }
        },
        {
          "output_type": "stream",
          "text": [
            "\n"
          ],
          "name": "stdout"
        },
        {
          "output_type": "display_data",
          "data": {
            "text/html": [
              "<div style=\"display:flex;flex-direction:row;\"><span>Epoch: 19/100. Iteration: 16/16. Cls loss: 0.12174. Reg loss: 0.18262. Batch loss: 0.30436 Total loss: 0.37064</span><progress style='margin:2px 4px;description_width:initial;' max='16' value='16'></progress>100% 16/16 [00:29&lt;00:00,  1.82s/it]</div>"
            ],
            "text/plain": [
              "<tqdm._fake_ipywidgets.HBox object>"
            ]
          },
          "metadata": {
            "tags": []
          }
        },
        {
          "output_type": "stream",
          "text": [
            "\n"
          ],
          "name": "stdout"
        },
        {
          "output_type": "display_data",
          "data": {
            "text/html": [
              "<div style=\"display:flex;flex-direction:row;\"><span>Epoch: 20/100. Iteration: 16/16. Cls loss: 0.05743. Reg loss: 0.19782. Batch loss: 0.25525 Total loss: 0.36059</span><progress style='margin:2px 4px;description_width:initial;' max='16' value='16'></progress>100% 16/16 [00:30&lt;00:00,  1.82s/it]</div>"
            ],
            "text/plain": [
              "<tqdm._fake_ipywidgets.HBox object>"
            ]
          },
          "metadata": {
            "tags": []
          }
        },
        {
          "output_type": "stream",
          "text": [
            "\n"
          ],
          "name": "stdout"
        },
        {
          "output_type": "display_data",
          "data": {
            "text/html": [
              "<div style=\"display:flex;flex-direction:row;\"><span>Epoch: 21/100. Iteration: 16/16. Cls loss: 0.14527. Reg loss: 0.29892. Batch loss: 0.44419 Total loss: 0.37795</span><progress style='margin:2px 4px;description_width:initial;' max='16' value='16'></progress>100% 16/16 [00:29&lt;00:00,  1.82s/it]</div>"
            ],
            "text/plain": [
              "<tqdm._fake_ipywidgets.HBox object>"
            ]
          },
          "metadata": {
            "tags": []
          }
        },
        {
          "output_type": "stream",
          "text": [
            "\n"
          ],
          "name": "stdout"
        },
        {
          "output_type": "display_data",
          "data": {
            "text/html": [
              "<div style=\"display:flex;flex-direction:row;\"><span>Epoch: 22/100. Iteration: 16/16. Cls loss: 0.10114. Reg loss: 0.28916. Batch loss: 0.39030 Total loss: 0.34493</span><progress style='margin:2px 4px;description_width:initial;' max='16' value='16'></progress>100% 16/16 [00:29&lt;00:00,  1.82s/it]</div>"
            ],
            "text/plain": [
              "<tqdm._fake_ipywidgets.HBox object>"
            ]
          },
          "metadata": {
            "tags": []
          }
        },
        {
          "output_type": "stream",
          "text": [
            "\n"
          ],
          "name": "stdout"
        },
        {
          "output_type": "display_data",
          "data": {
            "text/html": [
              "<div style=\"display:flex;flex-direction:row;\"><span>Epoch: 23/100. Iteration: 16/16. Cls loss: 0.07869. Reg loss: 0.20544. Batch loss: 0.28413 Total loss: 0.35543</span><progress style='margin:2px 4px;description_width:initial;' max='16' value='16'></progress>100% 16/16 [00:29&lt;00:00,  1.82s/it]</div>"
            ],
            "text/plain": [
              "<tqdm._fake_ipywidgets.HBox object>"
            ]
          },
          "metadata": {
            "tags": []
          }
        },
        {
          "output_type": "stream",
          "text": [
            "\n"
          ],
          "name": "stdout"
        },
        {
          "output_type": "display_data",
          "data": {
            "text/html": [
              "<div style=\"display:flex;flex-direction:row;\"><span>Epoch: 24/100. Iteration: 16/16. Cls loss: 0.07701. Reg loss: 0.28811. Batch loss: 0.36513 Total loss: 0.33179</span><progress style='margin:2px 4px;description_width:initial;' max='16' value='16'></progress>100% 16/16 [00:29&lt;00:00,  1.82s/it]</div>"
            ],
            "text/plain": [
              "<tqdm._fake_ipywidgets.HBox object>"
            ]
          },
          "metadata": {
            "tags": []
          }
        },
        {
          "output_type": "stream",
          "text": [
            "\n"
          ],
          "name": "stdout"
        },
        {
          "output_type": "display_data",
          "data": {
            "text/html": [
              "<div style=\"display:flex;flex-direction:row;\"><span>Epoch: 25/100. Iteration: 16/16. Cls loss: 0.08799. Reg loss: 0.24662. Batch loss: 0.33461 Total loss: 0.32933</span><progress style='margin:2px 4px;description_width:initial;' max='16' value='16'></progress>100% 16/16 [00:29&lt;00:00,  1.82s/it]</div>"
            ],
            "text/plain": [
              "<tqdm._fake_ipywidgets.HBox object>"
            ]
          },
          "metadata": {
            "tags": []
          }
        },
        {
          "output_type": "stream",
          "text": [
            "\n"
          ],
          "name": "stdout"
        },
        {
          "output_type": "display_data",
          "data": {
            "text/html": [
              "<div style=\"display:flex;flex-direction:row;\"><span>Epoch: 26/100. Iteration: 16/16. Cls loss: 0.08569. Reg loss: 0.25341. Batch loss: 0.33910 Total loss: 0.30125</span><progress style='margin:2px 4px;description_width:initial;' max='16' value='16'></progress>100% 16/16 [00:30&lt;00:00,  1.82s/it]</div>"
            ],
            "text/plain": [
              "<tqdm._fake_ipywidgets.HBox object>"
            ]
          },
          "metadata": {
            "tags": []
          }
        },
        {
          "output_type": "stream",
          "text": [
            "\n",
            "faild onnx export\n"
          ],
          "name": "stdout"
        },
        {
          "output_type": "display_data",
          "data": {
            "text/html": [
              "<div style=\"display:flex;flex-direction:row;\"><span>Epoch: 27/100. Iteration: 16/16. Cls loss: 0.04684. Reg loss: 0.18193. Batch loss: 0.22877 Total loss: 0.29875</span><progress style='margin:2px 4px;description_width:initial;' max='16' value='16'></progress>100% 16/16 [00:28&lt;00:00,  1.75s/it]</div>"
            ],
            "text/plain": [
              "<tqdm._fake_ipywidgets.HBox object>"
            ]
          },
          "metadata": {
            "tags": []
          }
        },
        {
          "output_type": "stream",
          "text": [
            "\n"
          ],
          "name": "stdout"
        },
        {
          "output_type": "display_data",
          "data": {
            "text/html": [
              "<div style=\"display:flex;flex-direction:row;\"><span>Epoch: 28/100. Iteration: 16/16. Cls loss: 0.07715. Reg loss: 0.20640. Batch loss: 0.28355 Total loss: 0.29001</span><progress style='margin:2px 4px;description_width:initial;' max='16' value='16'></progress>100% 16/16 [00:30&lt;00:00,  1.81s/it]</div>"
            ],
            "text/plain": [
              "<tqdm._fake_ipywidgets.HBox object>"
            ]
          },
          "metadata": {
            "tags": []
          }
        },
        {
          "output_type": "stream",
          "text": [
            "\n",
            "faild onnx export\n"
          ],
          "name": "stdout"
        },
        {
          "output_type": "display_data",
          "data": {
            "text/html": [
              "<div style=\"display:flex;flex-direction:row;\"><span>Epoch: 29/100. Iteration: 16/16. Cls loss: 0.05828. Reg loss: 0.18673. Batch loss: 0.24501 Total loss: 0.27192</span><progress style='margin:2px 4px;description_width:initial;' max='16' value='16'></progress>100% 16/16 [00:29&lt;00:00,  1.76s/it]</div>"
            ],
            "text/plain": [
              "<tqdm._fake_ipywidgets.HBox object>"
            ]
          },
          "metadata": {
            "tags": []
          }
        },
        {
          "output_type": "stream",
          "text": [
            "\n",
            "faild onnx export\n"
          ],
          "name": "stdout"
        },
        {
          "output_type": "display_data",
          "data": {
            "text/html": [
              "<div style=\"display:flex;flex-direction:row;\"><span>Epoch: 30/100. Iteration: 16/16. Cls loss: 0.07479. Reg loss: 0.21106. Batch loss: 0.28585 Total loss: 0.27780</span><progress style='margin:2px 4px;description_width:initial;' max='16' value='16'></progress>100% 16/16 [00:29&lt;00:00,  1.76s/it]</div>"
            ],
            "text/plain": [
              "<tqdm._fake_ipywidgets.HBox object>"
            ]
          },
          "metadata": {
            "tags": []
          }
        },
        {
          "output_type": "stream",
          "text": [
            "\n"
          ],
          "name": "stdout"
        },
        {
          "output_type": "display_data",
          "data": {
            "text/html": [
              "<div style=\"display:flex;flex-direction:row;\"><span>Epoch: 31/100. Iteration: 16/16. Cls loss: 0.09657. Reg loss: 0.20156. Batch loss: 0.29813 Total loss: 0.25831</span><progress style='margin:2px 4px;description_width:initial;' max='16' value='16'></progress>100% 16/16 [00:29&lt;00:00,  1.82s/it]</div>"
            ],
            "text/plain": [
              "<tqdm._fake_ipywidgets.HBox object>"
            ]
          },
          "metadata": {
            "tags": []
          }
        },
        {
          "output_type": "stream",
          "text": [
            "\n",
            "faild onnx export\n"
          ],
          "name": "stdout"
        },
        {
          "output_type": "display_data",
          "data": {
            "text/html": [
              "<div style=\"display:flex;flex-direction:row;\"><span>Epoch: 32/100. Iteration: 16/16. Cls loss: 0.06705. Reg loss: 0.18851. Batch loss: 0.25556 Total loss: 0.26051</span><progress style='margin:2px 4px;description_width:initial;' max='16' value='16'></progress>100% 16/16 [00:29&lt;00:00,  1.76s/it]</div>"
            ],
            "text/plain": [
              "<tqdm._fake_ipywidgets.HBox object>"
            ]
          },
          "metadata": {
            "tags": []
          }
        },
        {
          "output_type": "stream",
          "text": [
            "\n"
          ],
          "name": "stdout"
        },
        {
          "output_type": "display_data",
          "data": {
            "text/html": [
              "<div style=\"display:flex;flex-direction:row;\"><span>Epoch: 33/100. Iteration: 16/16. Cls loss: 0.05890. Reg loss: 0.19672. Batch loss: 0.25562 Total loss: 0.26294</span><progress style='margin:2px 4px;description_width:initial;' max='16' value='16'></progress>100% 16/16 [00:29&lt;00:00,  1.82s/it]</div>"
            ],
            "text/plain": [
              "<tqdm._fake_ipywidgets.HBox object>"
            ]
          },
          "metadata": {
            "tags": []
          }
        },
        {
          "output_type": "stream",
          "text": [
            "\n"
          ],
          "name": "stdout"
        },
        {
          "output_type": "display_data",
          "data": {
            "text/html": [
              "<div style=\"display:flex;flex-direction:row;\"><span>Epoch: 34/100. Iteration: 16/16. Cls loss: 0.05120. Reg loss: 0.18231. Batch loss: 0.23351 Total loss: 0.24537</span><progress style='margin:2px 4px;description_width:initial;' max='16' value='16'></progress>100% 16/16 [00:29&lt;00:00,  1.81s/it]</div>"
            ],
            "text/plain": [
              "<tqdm._fake_ipywidgets.HBox object>"
            ]
          },
          "metadata": {
            "tags": []
          }
        },
        {
          "output_type": "stream",
          "text": [
            "\n"
          ],
          "name": "stdout"
        },
        {
          "output_type": "display_data",
          "data": {
            "text/html": [
              "<div style=\"display:flex;flex-direction:row;\"><span>Epoch: 35/100. Iteration: 16/16. Cls loss: 0.03766. Reg loss: 0.15302. Batch loss: 0.19068 Total loss: 0.23988</span><progress style='margin:2px 4px;description_width:initial;' max='16' value='16'></progress>100% 16/16 [00:29&lt;00:00,  1.81s/it]</div>"
            ],
            "text/plain": [
              "<tqdm._fake_ipywidgets.HBox object>"
            ]
          },
          "metadata": {
            "tags": []
          }
        },
        {
          "output_type": "stream",
          "text": [
            "\n"
          ],
          "name": "stdout"
        },
        {
          "output_type": "display_data",
          "data": {
            "text/html": [
              "<div style=\"display:flex;flex-direction:row;\"><span>Epoch: 36/100. Iteration: 16/16. Cls loss: 0.02675. Reg loss: 0.13210. Batch loss: 0.15885 Total loss: 0.22807</span><progress style='margin:2px 4px;description_width:initial;' max='16' value='16'></progress>100% 16/16 [00:29&lt;00:00,  1.81s/it]</div>"
            ],
            "text/plain": [
              "<tqdm._fake_ipywidgets.HBox object>"
            ]
          },
          "metadata": {
            "tags": []
          }
        },
        {
          "output_type": "stream",
          "text": [
            "\n"
          ],
          "name": "stdout"
        },
        {
          "output_type": "display_data",
          "data": {
            "text/html": [
              "<div style=\"display:flex;flex-direction:row;\"><span>Epoch: 37/100. Iteration: 16/16. Cls loss: 0.04371. Reg loss: 0.21647. Batch loss: 0.26018 Total loss: 0.24958</span><progress style='margin:2px 4px;description_width:initial;' max='16' value='16'></progress>100% 16/16 [00:29&lt;00:00,  1.81s/it]</div>"
            ],
            "text/plain": [
              "<tqdm._fake_ipywidgets.HBox object>"
            ]
          },
          "metadata": {
            "tags": []
          }
        },
        {
          "output_type": "stream",
          "text": [
            "\n"
          ],
          "name": "stdout"
        },
        {
          "output_type": "display_data",
          "data": {
            "text/html": [
              "<div style=\"display:flex;flex-direction:row;\"><span>Epoch: 38/100. Iteration: 16/16. Cls loss: 0.05022. Reg loss: 0.15822. Batch loss: 0.20844 Total loss: 0.23283</span><progress style='margin:2px 4px;description_width:initial;' max='16' value='16'></progress>100% 16/16 [00:29&lt;00:00,  1.82s/it]</div>"
            ],
            "text/plain": [
              "<tqdm._fake_ipywidgets.HBox object>"
            ]
          },
          "metadata": {
            "tags": []
          }
        },
        {
          "output_type": "stream",
          "text": [
            "\n",
            "faild onnx export\n"
          ],
          "name": "stdout"
        },
        {
          "output_type": "display_data",
          "data": {
            "text/html": [
              "<div style=\"display:flex;flex-direction:row;\"><span>Epoch: 39/100. Iteration: 16/16. Cls loss: 0.06206. Reg loss: 0.18899. Batch loss: 0.25105 Total loss: 0.20806</span><progress style='margin:2px 4px;description_width:initial;' max='16' value='16'></progress>100% 16/16 [00:28&lt;00:00,  1.75s/it]</div>"
            ],
            "text/plain": [
              "<tqdm._fake_ipywidgets.HBox object>"
            ]
          },
          "metadata": {
            "tags": []
          }
        },
        {
          "output_type": "stream",
          "text": [
            "\n"
          ],
          "name": "stdout"
        },
        {
          "output_type": "display_data",
          "data": {
            "text/html": [
              "<div style=\"display:flex;flex-direction:row;\"><span>Epoch: 40/100. Iteration: 16/16. Cls loss: 0.03010. Reg loss: 0.12974. Batch loss: 0.15983 Total loss: 0.20706</span><progress style='margin:2px 4px;description_width:initial;' max='16' value='16'></progress>100% 16/16 [00:29&lt;00:00,  1.81s/it]</div>"
            ],
            "text/plain": [
              "<tqdm._fake_ipywidgets.HBox object>"
            ]
          },
          "metadata": {
            "tags": []
          }
        },
        {
          "output_type": "stream",
          "text": [
            "\n",
            "faild onnx export\n"
          ],
          "name": "stdout"
        },
        {
          "output_type": "display_data",
          "data": {
            "text/html": [
              "<div style=\"display:flex;flex-direction:row;\"><span>Epoch: 41/100. Iteration: 16/16. Cls loss: 0.04648. Reg loss: 0.18832. Batch loss: 0.23480 Total loss: 0.20256</span><progress style='margin:2px 4px;description_width:initial;' max='16' value='16'></progress>100% 16/16 [00:28&lt;00:00,  1.76s/it]</div>"
            ],
            "text/plain": [
              "<tqdm._fake_ipywidgets.HBox object>"
            ]
          },
          "metadata": {
            "tags": []
          }
        },
        {
          "output_type": "stream",
          "text": [
            "\n"
          ],
          "name": "stdout"
        },
        {
          "output_type": "display_data",
          "data": {
            "text/html": [
              "<div style=\"display:flex;flex-direction:row;\"><span>Epoch: 42/100. Iteration: 16/16. Cls loss: 0.04071. Reg loss: 0.16280. Batch loss: 0.20350 Total loss: 0.18431</span><progress style='margin:2px 4px;description_width:initial;' max='16' value='16'></progress>100% 16/16 [00:29&lt;00:00,  1.81s/it]</div>"
            ],
            "text/plain": [
              "<tqdm._fake_ipywidgets.HBox object>"
            ]
          },
          "metadata": {
            "tags": []
          }
        },
        {
          "output_type": "stream",
          "text": [
            "\n"
          ],
          "name": "stdout"
        },
        {
          "output_type": "display_data",
          "data": {
            "text/html": [
              "<div style=\"display:flex;flex-direction:row;\"><span>Epoch: 43/100. Iteration: 16/16. Cls loss: 0.06217. Reg loss: 0.19204. Batch loss: 0.25421 Total loss: 0.18638</span><progress style='margin:2px 4px;description_width:initial;' max='16' value='16'></progress>100% 16/16 [00:29&lt;00:00,  1.81s/it]</div>"
            ],
            "text/plain": [
              "<tqdm._fake_ipywidgets.HBox object>"
            ]
          },
          "metadata": {
            "tags": []
          }
        },
        {
          "output_type": "stream",
          "text": [
            "\n",
            "faild onnx export\n"
          ],
          "name": "stdout"
        },
        {
          "output_type": "display_data",
          "data": {
            "text/html": [
              "<div style=\"display:flex;flex-direction:row;\"><span>Epoch: 44/100. Iteration: 16/16. Cls loss: 0.02971. Reg loss: 0.14175. Batch loss: 0.17146 Total loss: 0.20240</span><progress style='margin:2px 4px;description_width:initial;' max='16' value='16'></progress>100% 16/16 [00:28&lt;00:00,  1.75s/it]</div>"
            ],
            "text/plain": [
              "<tqdm._fake_ipywidgets.HBox object>"
            ]
          },
          "metadata": {
            "tags": []
          }
        },
        {
          "output_type": "stream",
          "text": [
            "\n"
          ],
          "name": "stdout"
        },
        {
          "output_type": "display_data",
          "data": {
            "text/html": [
              "<div style=\"display:flex;flex-direction:row;\"><span>Epoch: 45/100. Iteration: 16/16. Cls loss: 0.02752. Reg loss: 0.11507. Batch loss: 0.14259 Total loss: 0.18501</span><progress style='margin:2px 4px;description_width:initial;' max='16' value='16'></progress>100% 16/16 [00:29&lt;00:00,  1.81s/it]</div>"
            ],
            "text/plain": [
              "<tqdm._fake_ipywidgets.HBox object>"
            ]
          },
          "metadata": {
            "tags": []
          }
        },
        {
          "output_type": "stream",
          "text": [
            "\n"
          ],
          "name": "stdout"
        },
        {
          "output_type": "display_data",
          "data": {
            "text/html": [
              "<div style=\"display:flex;flex-direction:row;\"><span>Epoch: 46/100. Iteration: 16/16. Cls loss: 0.11021. Reg loss: 0.12867. Batch loss: 0.23888 Total loss: 0.18176</span><progress style='margin:2px 4px;description_width:initial;' max='16' value='16'></progress>100% 16/16 [00:29&lt;00:00,  1.81s/it]</div>"
            ],
            "text/plain": [
              "<tqdm._fake_ipywidgets.HBox object>"
            ]
          },
          "metadata": {
            "tags": []
          }
        },
        {
          "output_type": "stream",
          "text": [
            "\n"
          ],
          "name": "stdout"
        },
        {
          "output_type": "display_data",
          "data": {
            "text/html": [
              "<div style=\"display:flex;flex-direction:row;\"><span>Epoch: 47/100. Iteration: 16/16. Cls loss: 0.04355. Reg loss: 0.15842. Batch loss: 0.20197 Total loss: 0.19569</span><progress style='margin:2px 4px;description_width:initial;' max='16' value='16'></progress>100% 16/16 [00:29&lt;00:00,  1.81s/it]</div>"
            ],
            "text/plain": [
              "<tqdm._fake_ipywidgets.HBox object>"
            ]
          },
          "metadata": {
            "tags": []
          }
        },
        {
          "output_type": "stream",
          "text": [
            "\n"
          ],
          "name": "stdout"
        },
        {
          "output_type": "display_data",
          "data": {
            "text/html": [
              "<div style=\"display:flex;flex-direction:row;\"><span>Epoch: 48/100. Iteration: 16/16. Cls loss: 0.04713. Reg loss: 0.11058. Batch loss: 0.15771 Total loss: 0.18299</span><progress style='margin:2px 4px;description_width:initial;' max='16' value='16'></progress>100% 16/16 [00:29&lt;00:00,  1.81s/it]</div>"
            ],
            "text/plain": [
              "<tqdm._fake_ipywidgets.HBox object>"
            ]
          },
          "metadata": {
            "tags": []
          }
        },
        {
          "output_type": "stream",
          "text": [
            "\n"
          ],
          "name": "stdout"
        },
        {
          "output_type": "display_data",
          "data": {
            "text/html": [
              "<div style=\"display:flex;flex-direction:row;\"><span>Epoch: 49/100. Iteration: 16/16. Cls loss: 0.02116. Reg loss: 0.13186. Batch loss: 0.15302 Total loss: 0.16876</span><progress style='margin:2px 4px;description_width:initial;' max='16' value='16'></progress>100% 16/16 [00:29&lt;00:00,  1.81s/it]</div>"
            ],
            "text/plain": [
              "<tqdm._fake_ipywidgets.HBox object>"
            ]
          },
          "metadata": {
            "tags": []
          }
        },
        {
          "output_type": "stream",
          "text": [
            "\n",
            "faild onnx export\n"
          ],
          "name": "stdout"
        },
        {
          "output_type": "display_data",
          "data": {
            "text/html": [
              "<div style=\"display:flex;flex-direction:row;\"><span>Epoch: 50/100. Iteration: 16/16. Cls loss: 0.02256. Reg loss: 0.11887. Batch loss: 0.14143 Total loss: 0.17836</span><progress style='margin:2px 4px;description_width:initial;' max='16' value='16'></progress>100% 16/16 [00:29&lt;00:00,  1.76s/it]</div>"
            ],
            "text/plain": [
              "<tqdm._fake_ipywidgets.HBox object>"
            ]
          },
          "metadata": {
            "tags": []
          }
        },
        {
          "output_type": "stream",
          "text": [
            "\n"
          ],
          "name": "stdout"
        },
        {
          "output_type": "display_data",
          "data": {
            "text/html": [
              "<div style=\"display:flex;flex-direction:row;\"><span>Epoch: 51/100. Iteration: 16/16. Cls loss: 0.02541. Reg loss: 0.12694. Batch loss: 0.15235 Total loss: 0.18879</span><progress style='margin:2px 4px;description_width:initial;' max='16' value='16'></progress>100% 16/16 [00:29&lt;00:00,  1.81s/it]</div>"
            ],
            "text/plain": [
              "<tqdm._fake_ipywidgets.HBox object>"
            ]
          },
          "metadata": {
            "tags": []
          }
        },
        {
          "output_type": "stream",
          "text": [
            "\n"
          ],
          "name": "stdout"
        },
        {
          "output_type": "display_data",
          "data": {
            "text/html": [
              "<div style=\"display:flex;flex-direction:row;\"><span>Epoch: 52/100. Iteration: 16/16. Cls loss: 0.02333. Reg loss: 0.14577. Batch loss: 0.16911 Total loss: 0.16201</span><progress style='margin:2px 4px;description_width:initial;' max='16' value='16'></progress>100% 16/16 [00:29&lt;00:00,  1.80s/it]</div>"
            ],
            "text/plain": [
              "<tqdm._fake_ipywidgets.HBox object>"
            ]
          },
          "metadata": {
            "tags": []
          }
        },
        {
          "output_type": "stream",
          "text": [
            "\n",
            "faild onnx export\n"
          ],
          "name": "stdout"
        },
        {
          "output_type": "display_data",
          "data": {
            "text/html": [
              "<div style=\"display:flex;flex-direction:row;\"><span>Epoch: 53/100. Iteration: 16/16. Cls loss: 0.02189. Reg loss: 0.10117. Batch loss: 0.12306 Total loss: 0.15622</span><progress style='margin:2px 4px;description_width:initial;' max='16' value='16'></progress>100% 16/16 [00:28&lt;00:00,  1.76s/it]</div>"
            ],
            "text/plain": [
              "<tqdm._fake_ipywidgets.HBox object>"
            ]
          },
          "metadata": {
            "tags": []
          }
        },
        {
          "output_type": "stream",
          "text": [
            "\n"
          ],
          "name": "stdout"
        },
        {
          "output_type": "display_data",
          "data": {
            "text/html": [
              "<div style=\"display:flex;flex-direction:row;\"><span>Epoch: 54/100. Iteration: 16/16. Cls loss: 0.01700. Reg loss: 0.10644. Batch loss: 0.12344 Total loss: 0.15958</span><progress style='margin:2px 4px;description_width:initial;' max='16' value='16'></progress>100% 16/16 [00:29&lt;00:00,  1.81s/it]</div>"
            ],
            "text/plain": [
              "<tqdm._fake_ipywidgets.HBox object>"
            ]
          },
          "metadata": {
            "tags": []
          }
        },
        {
          "output_type": "stream",
          "text": [
            "\n"
          ],
          "name": "stdout"
        },
        {
          "output_type": "display_data",
          "data": {
            "text/html": [
              "<div style=\"display:flex;flex-direction:row;\"><span>Epoch: 55/100. Iteration: 16/16. Cls loss: 0.03805. Reg loss: 0.15646. Batch loss: 0.19450 Total loss: 0.16814</span><progress style='margin:2px 4px;description_width:initial;' max='16' value='16'></progress>100% 16/16 [00:29&lt;00:00,  1.81s/it]</div>"
            ],
            "text/plain": [
              "<tqdm._fake_ipywidgets.HBox object>"
            ]
          },
          "metadata": {
            "tags": []
          }
        },
        {
          "output_type": "stream",
          "text": [
            "\n"
          ],
          "name": "stdout"
        },
        {
          "output_type": "display_data",
          "data": {
            "text/html": [
              "<div style=\"display:flex;flex-direction:row;\"><span>Epoch: 56/100. Iteration: 16/16. Cls loss: 0.02215. Reg loss: 0.12521. Batch loss: 0.14735 Total loss: 0.16038</span><progress style='margin:2px 4px;description_width:initial;' max='16' value='16'></progress>100% 16/16 [00:29&lt;00:00,  1.81s/it]</div>"
            ],
            "text/plain": [
              "<tqdm._fake_ipywidgets.HBox object>"
            ]
          },
          "metadata": {
            "tags": []
          }
        },
        {
          "output_type": "stream",
          "text": [
            "\n"
          ],
          "name": "stdout"
        },
        {
          "output_type": "display_data",
          "data": {
            "text/html": [
              "<div style=\"display:flex;flex-direction:row;\"><span>Epoch: 57/100. Iteration: 16/16. Cls loss: 0.02525. Reg loss: 0.14457. Batch loss: 0.16982 Total loss: 0.16604</span><progress style='margin:2px 4px;description_width:initial;' max='16' value='16'></progress>100% 16/16 [00:29&lt;00:00,  1.81s/it]</div>"
            ],
            "text/plain": [
              "<tqdm._fake_ipywidgets.HBox object>"
            ]
          },
          "metadata": {
            "tags": []
          }
        },
        {
          "output_type": "stream",
          "text": [
            "\n",
            "Epoch    57: reducing learning rate of group 0 to 1.0000e-05.\n",
            "faild onnx export\n"
          ],
          "name": "stdout"
        },
        {
          "output_type": "display_data",
          "data": {
            "text/html": [
              "<div style=\"display:flex;flex-direction:row;\"><span>Epoch: 58/100. Iteration: 16/16. Cls loss: 0.01496. Reg loss: 0.07460. Batch loss: 0.08956 Total loss: 0.14069</span><progress style='margin:2px 4px;description_width:initial;' max='16' value='16'></progress>100% 16/16 [00:28&lt;00:00,  1.76s/it]</div>"
            ],
            "text/plain": [
              "<tqdm._fake_ipywidgets.HBox object>"
            ]
          },
          "metadata": {
            "tags": []
          }
        },
        {
          "output_type": "stream",
          "text": [
            "\n"
          ],
          "name": "stdout"
        },
        {
          "output_type": "display_data",
          "data": {
            "text/html": [
              "<div style=\"display:flex;flex-direction:row;\"><span>Epoch: 59/100. Iteration: 16/16. Cls loss: 0.03029. Reg loss: 0.12247. Batch loss: 0.15276 Total loss: 0.12775</span><progress style='margin:2px 4px;description_width:initial;' max='16' value='16'></progress>100% 16/16 [00:29&lt;00:00,  1.81s/it]</div>"
            ],
            "text/plain": [
              "<tqdm._fake_ipywidgets.HBox object>"
            ]
          },
          "metadata": {
            "tags": []
          }
        },
        {
          "output_type": "stream",
          "text": [
            "\n"
          ],
          "name": "stdout"
        },
        {
          "output_type": "display_data",
          "data": {
            "text/html": [
              "<div style=\"display:flex;flex-direction:row;\"><span>Epoch: 60/100. Iteration: 16/16. Cls loss: 0.02130. Reg loss: 0.09428. Batch loss: 0.11558 Total loss: 0.12518</span><progress style='margin:2px 4px;description_width:initial;' max='16' value='16'></progress>100% 16/16 [00:29&lt;00:00,  1.81s/it]</div>"
            ],
            "text/plain": [
              "<tqdm._fake_ipywidgets.HBox object>"
            ]
          },
          "metadata": {
            "tags": []
          }
        },
        {
          "output_type": "stream",
          "text": [
            "\n",
            "faild onnx export\n"
          ],
          "name": "stdout"
        },
        {
          "output_type": "display_data",
          "data": {
            "text/html": [
              "<div style=\"display:flex;flex-direction:row;\"><span>Epoch: 61/100. Iteration: 16/16. Cls loss: 0.02153. Reg loss: 0.12766. Batch loss: 0.14919 Total loss: 0.12073</span><progress style='margin:2px 4px;description_width:initial;' max='16' value='16'></progress>100% 16/16 [00:28&lt;00:00,  1.76s/it]</div>"
            ],
            "text/plain": [
              "<tqdm._fake_ipywidgets.HBox object>"
            ]
          },
          "metadata": {
            "tags": []
          }
        },
        {
          "output_type": "stream",
          "text": [
            "\n"
          ],
          "name": "stdout"
        },
        {
          "output_type": "display_data",
          "data": {
            "text/html": [
              "<div style=\"display:flex;flex-direction:row;\"><span>Epoch: 62/100. Iteration: 16/16. Cls loss: 0.02356. Reg loss: 0.09593. Batch loss: 0.11950 Total loss: 0.12576</span><progress style='margin:2px 4px;description_width:initial;' max='16' value='16'></progress>100% 16/16 [00:29&lt;00:00,  1.82s/it]</div>"
            ],
            "text/plain": [
              "<tqdm._fake_ipywidgets.HBox object>"
            ]
          },
          "metadata": {
            "tags": []
          }
        },
        {
          "output_type": "stream",
          "text": [
            "\n"
          ],
          "name": "stdout"
        },
        {
          "output_type": "display_data",
          "data": {
            "text/html": [
              "<div style=\"display:flex;flex-direction:row;\"><span>Epoch: 63/100. Iteration: 16/16. Cls loss: 0.02192. Reg loss: 0.09545. Batch loss: 0.11737 Total loss: 0.12420</span><progress style='margin:2px 4px;description_width:initial;' max='16' value='16'></progress>100% 16/16 [00:29&lt;00:00,  1.81s/it]</div>"
            ],
            "text/plain": [
              "<tqdm._fake_ipywidgets.HBox object>"
            ]
          },
          "metadata": {
            "tags": []
          }
        },
        {
          "output_type": "stream",
          "text": [
            "\n"
          ],
          "name": "stdout"
        },
        {
          "output_type": "display_data",
          "data": {
            "text/html": [
              "<div style=\"display:flex;flex-direction:row;\"><span>Epoch: 64/100. Iteration: 16/16. Cls loss: 0.02786. Reg loss: 0.11251. Batch loss: 0.14037 Total loss: 0.12401</span><progress style='margin:2px 4px;description_width:initial;' max='16' value='16'></progress>100% 16/16 [00:29&lt;00:00,  1.81s/it]</div>"
            ],
            "text/plain": [
              "<tqdm._fake_ipywidgets.HBox object>"
            ]
          },
          "metadata": {
            "tags": []
          }
        },
        {
          "output_type": "stream",
          "text": [
            "\n"
          ],
          "name": "stdout"
        },
        {
          "output_type": "display_data",
          "data": {
            "text/html": [
              "<div style=\"display:flex;flex-direction:row;\"><span>Epoch: 65/100. Iteration: 16/16. Cls loss: 0.02452. Reg loss: 0.10772. Batch loss: 0.13224 Total loss: 0.11678</span><progress style='margin:2px 4px;description_width:initial;' max='16' value='16'></progress>100% 16/16 [00:29&lt;00:00,  1.81s/it]</div>"
            ],
            "text/plain": [
              "<tqdm._fake_ipywidgets.HBox object>"
            ]
          },
          "metadata": {
            "tags": []
          }
        },
        {
          "output_type": "stream",
          "text": [
            "\n"
          ],
          "name": "stdout"
        },
        {
          "output_type": "display_data",
          "data": {
            "text/html": [
              "<div style=\"display:flex;flex-direction:row;\"><span>Epoch: 66/100. Iteration: 16/16. Cls loss: 0.01964. Reg loss: 0.10037. Batch loss: 0.12001 Total loss: 0.12148</span><progress style='margin:2px 4px;description_width:initial;' max='16' value='16'></progress>100% 16/16 [00:29&lt;00:00,  1.81s/it]</div>"
            ],
            "text/plain": [
              "<tqdm._fake_ipywidgets.HBox object>"
            ]
          },
          "metadata": {
            "tags": []
          }
        },
        {
          "output_type": "stream",
          "text": [
            "\n"
          ],
          "name": "stdout"
        },
        {
          "output_type": "display_data",
          "data": {
            "text/html": [
              "<div style=\"display:flex;flex-direction:row;\"><span>Epoch: 67/100. Iteration: 16/16. Cls loss: 0.03075. Reg loss: 0.13058. Batch loss: 0.16133 Total loss: 0.12983</span><progress style='margin:2px 4px;description_width:initial;' max='16' value='16'></progress>100% 16/16 [00:29&lt;00:00,  1.81s/it]</div>"
            ],
            "text/plain": [
              "<tqdm._fake_ipywidgets.HBox object>"
            ]
          },
          "metadata": {
            "tags": []
          }
        },
        {
          "output_type": "stream",
          "text": [
            "\n",
            "faild onnx export\n"
          ],
          "name": "stdout"
        },
        {
          "output_type": "display_data",
          "data": {
            "text/html": [
              "<div style=\"display:flex;flex-direction:row;\"><span>Epoch: 68/100. Iteration: 16/16. Cls loss: 0.02107. Reg loss: 0.09290. Batch loss: 0.11397 Total loss: 0.12601</span><progress style='margin:2px 4px;description_width:initial;' max='16' value='16'></progress>100% 16/16 [00:28&lt;00:00,  1.75s/it]</div>"
            ],
            "text/plain": [
              "<tqdm._fake_ipywidgets.HBox object>"
            ]
          },
          "metadata": {
            "tags": []
          }
        },
        {
          "output_type": "stream",
          "text": [
            "\n"
          ],
          "name": "stdout"
        },
        {
          "output_type": "display_data",
          "data": {
            "text/html": [
              "<div style=\"display:flex;flex-direction:row;\"><span>Epoch: 69/100. Iteration: 16/16. Cls loss: 0.01330. Reg loss: 0.07528. Batch loss: 0.08858 Total loss: 0.12403</span><progress style='margin:2px 4px;description_width:initial;' max='16' value='16'></progress>100% 16/16 [00:30&lt;00:00,  1.81s/it]</div>"
            ],
            "text/plain": [
              "<tqdm._fake_ipywidgets.HBox object>"
            ]
          },
          "metadata": {
            "tags": []
          }
        },
        {
          "output_type": "stream",
          "text": [
            "\n",
            "Epoch    69: reducing learning rate of group 0 to 1.0000e-06.\n"
          ],
          "name": "stdout"
        },
        {
          "output_type": "display_data",
          "data": {
            "text/html": [
              "<div style=\"display:flex;flex-direction:row;\"><span>Epoch: 70/100. Iteration: 16/16. Cls loss: 0.02064. Reg loss: 0.09760. Batch loss: 0.11824 Total loss: 0.11539</span><progress style='margin:2px 4px;description_width:initial;' max='16' value='16'></progress>100% 16/16 [00:29&lt;00:00,  1.81s/it]</div>"
            ],
            "text/plain": [
              "<tqdm._fake_ipywidgets.HBox object>"
            ]
          },
          "metadata": {
            "tags": []
          }
        },
        {
          "output_type": "stream",
          "text": [
            "\n"
          ],
          "name": "stdout"
        },
        {
          "output_type": "display_data",
          "data": {
            "text/html": [
              "<div style=\"display:flex;flex-direction:row;\"><span>Epoch: 71/100. Iteration: 16/16. Cls loss: 0.02090. Reg loss: 0.09041. Batch loss: 0.11130 Total loss: 0.11725</span><progress style='margin:2px 4px;description_width:initial;' max='16' value='16'></progress>100% 16/16 [00:29&lt;00:00,  1.81s/it]</div>"
            ],
            "text/plain": [
              "<tqdm._fake_ipywidgets.HBox object>"
            ]
          },
          "metadata": {
            "tags": []
          }
        },
        {
          "output_type": "stream",
          "text": [
            "\n",
            "faild onnx export\n"
          ],
          "name": "stdout"
        },
        {
          "output_type": "display_data",
          "data": {
            "text/html": [
              "<div style=\"display:flex;flex-direction:row;\"><span>Epoch: 72/100. Iteration: 16/16. Cls loss: 0.02679. Reg loss: 0.11200. Batch loss: 0.13879 Total loss: 0.11270</span><progress style='margin:2px 4px;description_width:initial;' max='16' value='16'></progress>100% 16/16 [00:28&lt;00:00,  1.75s/it]</div>"
            ],
            "text/plain": [
              "<tqdm._fake_ipywidgets.HBox object>"
            ]
          },
          "metadata": {
            "tags": []
          }
        },
        {
          "output_type": "stream",
          "text": [
            "\n"
          ],
          "name": "stdout"
        },
        {
          "output_type": "display_data",
          "data": {
            "text/html": [
              "<div style=\"display:flex;flex-direction:row;\"><span>Epoch: 73/100. Iteration: 16/16. Cls loss: 0.02988. Reg loss: 0.13358. Batch loss: 0.16346 Total loss: 0.11956</span><progress style='margin:2px 4px;description_width:initial;' max='16' value='16'></progress>100% 16/16 [00:29&lt;00:00,  1.81s/it]</div>"
            ],
            "text/plain": [
              "<tqdm._fake_ipywidgets.HBox object>"
            ]
          },
          "metadata": {
            "tags": []
          }
        },
        {
          "output_type": "stream",
          "text": [
            "\n"
          ],
          "name": "stdout"
        },
        {
          "output_type": "display_data",
          "data": {
            "text/html": [
              "<div style=\"display:flex;flex-direction:row;\"><span>Epoch: 74/100. Iteration: 16/16. Cls loss: 0.01958. Reg loss: 0.07323. Batch loss: 0.09281 Total loss: 0.11901</span><progress style='margin:2px 4px;description_width:initial;' max='16' value='16'></progress>100% 16/16 [00:29&lt;00:00,  1.81s/it]</div>"
            ],
            "text/plain": [
              "<tqdm._fake_ipywidgets.HBox object>"
            ]
          },
          "metadata": {
            "tags": []
          }
        },
        {
          "output_type": "stream",
          "text": [
            "\n"
          ],
          "name": "stdout"
        },
        {
          "output_type": "display_data",
          "data": {
            "text/html": [
              "<div style=\"display:flex;flex-direction:row;\"><span>Epoch: 75/100. Iteration: 16/16. Cls loss: 0.02085. Reg loss: 0.04655. Batch loss: 0.06740 Total loss: 0.11181</span><progress style='margin:2px 4px;description_width:initial;' max='16' value='16'></progress>100% 16/16 [00:29&lt;00:00,  1.81s/it]</div>"
            ],
            "text/plain": [
              "<tqdm._fake_ipywidgets.HBox object>"
            ]
          },
          "metadata": {
            "tags": []
          }
        },
        {
          "output_type": "stream",
          "text": [
            "\n"
          ],
          "name": "stdout"
        },
        {
          "output_type": "display_data",
          "data": {
            "text/html": [
              "<div style=\"display:flex;flex-direction:row;\"><span>Epoch: 76/100. Iteration: 16/16. Cls loss: 0.02231. Reg loss: 0.09130. Batch loss: 0.11361 Total loss: 0.10902</span><progress style='margin:2px 4px;description_width:initial;' max='16' value='16'></progress>100% 16/16 [00:29&lt;00:00,  1.81s/it]</div>"
            ],
            "text/plain": [
              "<tqdm._fake_ipywidgets.HBox object>"
            ]
          },
          "metadata": {
            "tags": []
          }
        },
        {
          "output_type": "stream",
          "text": [
            "\n"
          ],
          "name": "stdout"
        },
        {
          "output_type": "display_data",
          "data": {
            "text/html": [
              "<div style=\"display:flex;flex-direction:row;\"><span>Epoch: 77/100. Iteration: 16/16. Cls loss: 0.02256. Reg loss: 0.10653. Batch loss: 0.12909 Total loss: 0.11703</span><progress style='margin:2px 4px;description_width:initial;' max='16' value='16'></progress>100% 16/16 [00:29&lt;00:00,  1.81s/it]</div>"
            ],
            "text/plain": [
              "<tqdm._fake_ipywidgets.HBox object>"
            ]
          },
          "metadata": {
            "tags": []
          }
        },
        {
          "output_type": "stream",
          "text": [
            "\n"
          ],
          "name": "stdout"
        },
        {
          "output_type": "display_data",
          "data": {
            "text/html": [
              "<div style=\"display:flex;flex-direction:row;\"><span>Epoch: 78/100. Iteration: 16/16. Cls loss: 0.01060. Reg loss: 0.06038. Batch loss: 0.07098 Total loss: 0.10357</span><progress style='margin:2px 4px;description_width:initial;' max='16' value='16'></progress>100% 16/16 [00:29&lt;00:00,  1.81s/it]</div>"
            ],
            "text/plain": [
              "<tqdm._fake_ipywidgets.HBox object>"
            ]
          },
          "metadata": {
            "tags": []
          }
        },
        {
          "output_type": "stream",
          "text": [
            "\n",
            "faild onnx export\n"
          ],
          "name": "stdout"
        },
        {
          "output_type": "display_data",
          "data": {
            "text/html": [
              "<div style=\"display:flex;flex-direction:row;\"><span>Epoch: 79/100. Iteration: 16/16. Cls loss: 0.01744. Reg loss: 0.07509. Batch loss: 0.09253 Total loss: 0.11991</span><progress style='margin:2px 4px;description_width:initial;' max='16' value='16'></progress>100% 16/16 [00:29&lt;00:00,  1.75s/it]</div>"
            ],
            "text/plain": [
              "<tqdm._fake_ipywidgets.HBox object>"
            ]
          },
          "metadata": {
            "tags": []
          }
        },
        {
          "output_type": "stream",
          "text": [
            "\n"
          ],
          "name": "stdout"
        },
        {
          "output_type": "display_data",
          "data": {
            "text/html": [
              "<div style=\"display:flex;flex-direction:row;\"><span>Epoch: 80/100. Iteration: 16/16. Cls loss: 0.01437. Reg loss: 0.06374. Batch loss: 0.07811 Total loss: 0.11794</span><progress style='margin:2px 4px;description_width:initial;' max='16' value='16'></progress>100% 16/16 [00:29&lt;00:00,  1.81s/it]</div>"
            ],
            "text/plain": [
              "<tqdm._fake_ipywidgets.HBox object>"
            ]
          },
          "metadata": {
            "tags": []
          }
        },
        {
          "output_type": "stream",
          "text": [
            "\n"
          ],
          "name": "stdout"
        },
        {
          "output_type": "display_data",
          "data": {
            "text/html": [
              "<div style=\"display:flex;flex-direction:row;\"><span>Epoch: 81/100. Iteration: 16/16. Cls loss: 0.02198. Reg loss: 0.10135. Batch loss: 0.12332 Total loss: 0.11995</span><progress style='margin:2px 4px;description_width:initial;' max='16' value='16'></progress>100% 16/16 [00:29&lt;00:00,  1.81s/it]</div>"
            ],
            "text/plain": [
              "<tqdm._fake_ipywidgets.HBox object>"
            ]
          },
          "metadata": {
            "tags": []
          }
        },
        {
          "output_type": "stream",
          "text": [
            "\n"
          ],
          "name": "stdout"
        },
        {
          "output_type": "display_data",
          "data": {
            "text/html": [
              "<div style=\"display:flex;flex-direction:row;\"><span>Epoch: 82/100. Iteration: 16/16. Cls loss: 0.01746. Reg loss: 0.07649. Batch loss: 0.09395 Total loss: 0.11454</span><progress style='margin:2px 4px;description_width:initial;' max='16' value='16'></progress>100% 16/16 [00:29&lt;00:00,  1.81s/it]</div>"
            ],
            "text/plain": [
              "<tqdm._fake_ipywidgets.HBox object>"
            ]
          },
          "metadata": {
            "tags": []
          }
        },
        {
          "output_type": "stream",
          "text": [
            "\n",
            "Epoch    82: reducing learning rate of group 0 to 1.0000e-07.\n"
          ],
          "name": "stdout"
        },
        {
          "output_type": "display_data",
          "data": {
            "text/html": [
              "<div style=\"display:flex;flex-direction:row;\"><span>Epoch: 83/100. Iteration: 16/16. Cls loss: 0.01654. Reg loss: 0.06994. Batch loss: 0.08648 Total loss: 0.12306</span><progress style='margin:2px 4px;description_width:initial;' max='16' value='16'></progress>100% 16/16 [00:29&lt;00:00,  1.81s/it]</div>"
            ],
            "text/plain": [
              "<tqdm._fake_ipywidgets.HBox object>"
            ]
          },
          "metadata": {
            "tags": []
          }
        },
        {
          "output_type": "stream",
          "text": [
            "\n",
            "faild onnx export\n"
          ],
          "name": "stdout"
        },
        {
          "output_type": "display_data",
          "data": {
            "text/html": [
              "<div style=\"display:flex;flex-direction:row;\"><span>Epoch: 84/100. Iteration: 16/16. Cls loss: 0.02503. Reg loss: 0.09520. Batch loss: 0.12023 Total loss: 0.11622</span><progress style='margin:2px 4px;description_width:initial;' max='16' value='16'></progress>100% 16/16 [00:29&lt;00:00,  1.76s/it]</div>"
            ],
            "text/plain": [
              "<tqdm._fake_ipywidgets.HBox object>"
            ]
          },
          "metadata": {
            "tags": []
          }
        },
        {
          "output_type": "stream",
          "text": [
            "\n"
          ],
          "name": "stdout"
        },
        {
          "output_type": "display_data",
          "data": {
            "text/html": [
              "<div style=\"display:flex;flex-direction:row;\"><span>Epoch: 85/100. Iteration: 16/16. Cls loss: 0.01784. Reg loss: 0.10700. Batch loss: 0.12484 Total loss: 0.10903</span><progress style='margin:2px 4px;description_width:initial;' max='16' value='16'></progress>100% 16/16 [00:29&lt;00:00,  1.82s/it]</div>"
            ],
            "text/plain": [
              "<tqdm._fake_ipywidgets.HBox object>"
            ]
          },
          "metadata": {
            "tags": []
          }
        },
        {
          "output_type": "stream",
          "text": [
            "\n"
          ],
          "name": "stdout"
        },
        {
          "output_type": "display_data",
          "data": {
            "text/html": [
              "<div style=\"display:flex;flex-direction:row;\"><span>Epoch: 86/100. Iteration: 16/16. Cls loss: 0.01754. Reg loss: 0.08404. Batch loss: 0.10158 Total loss: 0.10817</span><progress style='margin:2px 4px;description_width:initial;' max='16' value='16'></progress>100% 16/16 [00:29&lt;00:00,  1.82s/it]</div>"
            ],
            "text/plain": [
              "<tqdm._fake_ipywidgets.HBox object>"
            ]
          },
          "metadata": {
            "tags": []
          }
        },
        {
          "output_type": "stream",
          "text": [
            "\n",
            "Epoch    86: reducing learning rate of group 0 to 1.0000e-08.\n"
          ],
          "name": "stdout"
        },
        {
          "output_type": "display_data",
          "data": {
            "text/html": [
              "<div style=\"display:flex;flex-direction:row;\"><span>Epoch: 87/100. Iteration: 16/16. Cls loss: 0.02362. Reg loss: 0.07726. Batch loss: 0.10088 Total loss: 0.11793</span><progress style='margin:2px 4px;description_width:initial;' max='16' value='16'></progress>100% 16/16 [00:30&lt;00:00,  1.82s/it]</div>"
            ],
            "text/plain": [
              "<tqdm._fake_ipywidgets.HBox object>"
            ]
          },
          "metadata": {
            "tags": []
          }
        },
        {
          "output_type": "stream",
          "text": [
            "\n",
            "faild onnx export\n"
          ],
          "name": "stdout"
        },
        {
          "output_type": "display_data",
          "data": {
            "text/html": [
              "<div style=\"display:flex;flex-direction:row;\"><span>Epoch: 88/100. Iteration: 16/16. Cls loss: 0.02940. Reg loss: 0.10003. Batch loss: 0.12943 Total loss: 0.12722</span><progress style='margin:2px 4px;description_width:initial;' max='16' value='16'></progress>100% 16/16 [00:28&lt;00:00,  1.75s/it]</div>"
            ],
            "text/plain": [
              "<tqdm._fake_ipywidgets.HBox object>"
            ]
          },
          "metadata": {
            "tags": []
          }
        },
        {
          "output_type": "stream",
          "text": [
            "\n"
          ],
          "name": "stdout"
        },
        {
          "output_type": "display_data",
          "data": {
            "text/html": [
              "<div style=\"display:flex;flex-direction:row;\"><span>Epoch: 89/100. Iteration: 16/16. Cls loss: 0.01284. Reg loss: 0.05554. Batch loss: 0.06838 Total loss: 0.10990</span><progress style='margin:2px 4px;description_width:initial;' max='16' value='16'></progress>100% 16/16 [00:30&lt;00:00,  1.81s/it]</div>"
            ],
            "text/plain": [
              "<tqdm._fake_ipywidgets.HBox object>"
            ]
          },
          "metadata": {
            "tags": []
          }
        },
        {
          "output_type": "stream",
          "text": [
            "\n"
          ],
          "name": "stdout"
        },
        {
          "output_type": "display_data",
          "data": {
            "text/html": [
              "<div style=\"display:flex;flex-direction:row;\"><span>Epoch: 90/100. Iteration: 16/16. Cls loss: 0.01641. Reg loss: 0.06259. Batch loss: 0.07900 Total loss: 0.11039</span><progress style='margin:2px 4px;description_width:initial;' max='16' value='16'></progress>100% 16/16 [00:29&lt;00:00,  1.82s/it]</div>"
            ],
            "text/plain": [
              "<tqdm._fake_ipywidgets.HBox object>"
            ]
          },
          "metadata": {
            "tags": []
          }
        },
        {
          "output_type": "stream",
          "text": [
            "\n"
          ],
          "name": "stdout"
        },
        {
          "output_type": "display_data",
          "data": {
            "text/html": [
              "<div style=\"display:flex;flex-direction:row;\"><span>Epoch: 91/100. Iteration: 16/16. Cls loss: 0.02423. Reg loss: 0.08079. Batch loss: 0.10502 Total loss: 0.11035</span><progress style='margin:2px 4px;description_width:initial;' max='16' value='16'></progress>100% 16/16 [00:29&lt;00:00,  1.81s/it]</div>"
            ],
            "text/plain": [
              "<tqdm._fake_ipywidgets.HBox object>"
            ]
          },
          "metadata": {
            "tags": []
          }
        },
        {
          "output_type": "stream",
          "text": [
            "\n"
          ],
          "name": "stdout"
        },
        {
          "output_type": "display_data",
          "data": {
            "text/html": [
              "<div style=\"display:flex;flex-direction:row;\"><span>Epoch: 92/100. Iteration: 16/16. Cls loss: 0.01370. Reg loss: 0.07126. Batch loss: 0.08496 Total loss: 0.10916</span><progress style='margin:2px 4px;description_width:initial;' max='16' value='16'></progress>100% 16/16 [00:29&lt;00:00,  1.81s/it]</div>"
            ],
            "text/plain": [
              "<tqdm._fake_ipywidgets.HBox object>"
            ]
          },
          "metadata": {
            "tags": []
          }
        },
        {
          "output_type": "stream",
          "text": [
            "\n",
            "faild onnx export\n"
          ],
          "name": "stdout"
        },
        {
          "output_type": "display_data",
          "data": {
            "text/html": [
              "<div style=\"display:flex;flex-direction:row;\"><span>Epoch: 93/100. Iteration: 16/16. Cls loss: 0.04406. Reg loss: 0.13829. Batch loss: 0.18235 Total loss: 0.11001</span><progress style='margin:2px 4px;description_width:initial;' max='16' value='16'></progress>100% 16/16 [00:28&lt;00:00,  1.75s/it]</div>"
            ],
            "text/plain": [
              "<tqdm._fake_ipywidgets.HBox object>"
            ]
          },
          "metadata": {
            "tags": []
          }
        },
        {
          "output_type": "stream",
          "text": [
            "\n"
          ],
          "name": "stdout"
        },
        {
          "output_type": "display_data",
          "data": {
            "text/html": [
              "<div style=\"display:flex;flex-direction:row;\"><span>Epoch: 94/100. Iteration: 16/16. Cls loss: 0.03633. Reg loss: 0.14385. Batch loss: 0.18017 Total loss: 0.12317</span><progress style='margin:2px 4px;description_width:initial;' max='16' value='16'></progress>100% 16/16 [00:29&lt;00:00,  1.82s/it]</div>"
            ],
            "text/plain": [
              "<tqdm._fake_ipywidgets.HBox object>"
            ]
          },
          "metadata": {
            "tags": []
          }
        },
        {
          "output_type": "stream",
          "text": [
            "\n",
            "faild onnx export\n"
          ],
          "name": "stdout"
        },
        {
          "output_type": "display_data",
          "data": {
            "text/html": [
              "<div style=\"display:flex;flex-direction:row;\"><span>Epoch: 95/100. Iteration: 16/16. Cls loss: 0.03991. Reg loss: 0.12043. Batch loss: 0.16034 Total loss: 0.11462</span><progress style='margin:2px 4px;description_width:initial;' max='16' value='16'></progress>100% 16/16 [00:28&lt;00:00,  1.75s/it]</div>"
            ],
            "text/plain": [
              "<tqdm._fake_ipywidgets.HBox object>"
            ]
          },
          "metadata": {
            "tags": []
          }
        },
        {
          "output_type": "stream",
          "text": [
            "\n"
          ],
          "name": "stdout"
        },
        {
          "output_type": "display_data",
          "data": {
            "text/html": [
              "<div style=\"display:flex;flex-direction:row;\"><span>Epoch: 96/100. Iteration: 16/16. Cls loss: 0.01867. Reg loss: 0.08776. Batch loss: 0.10644 Total loss: 0.11598</span><progress style='margin:2px 4px;description_width:initial;' max='16' value='16'></progress>100% 16/16 [00:29&lt;00:00,  1.81s/it]</div>"
            ],
            "text/plain": [
              "<tqdm._fake_ipywidgets.HBox object>"
            ]
          },
          "metadata": {
            "tags": []
          }
        },
        {
          "output_type": "stream",
          "text": [
            "\n",
            "faild onnx export\n"
          ],
          "name": "stdout"
        },
        {
          "output_type": "display_data",
          "data": {
            "text/html": [
              "<div style=\"display:flex;flex-direction:row;\"><span>Epoch: 97/100. Iteration: 16/16. Cls loss: 0.01263. Reg loss: 0.05439. Batch loss: 0.06701 Total loss: 0.10717</span><progress style='margin:2px 4px;description_width:initial;' max='16' value='16'></progress>100% 16/16 [00:28&lt;00:00,  1.76s/it]</div>"
            ],
            "text/plain": [
              "<tqdm._fake_ipywidgets.HBox object>"
            ]
          },
          "metadata": {
            "tags": []
          }
        },
        {
          "output_type": "stream",
          "text": [
            "\n"
          ],
          "name": "stdout"
        },
        {
          "output_type": "display_data",
          "data": {
            "text/html": [
              "<div style=\"display:flex;flex-direction:row;\"><span>Epoch: 98/100. Iteration: 16/16. Cls loss: 0.03218. Reg loss: 0.11854. Batch loss: 0.15072 Total loss: 0.11647</span><progress style='margin:2px 4px;description_width:initial;' max='16' value='16'></progress>100% 16/16 [00:30&lt;00:00,  1.82s/it]</div>"
            ],
            "text/plain": [
              "<tqdm._fake_ipywidgets.HBox object>"
            ]
          },
          "metadata": {
            "tags": []
          }
        },
        {
          "output_type": "stream",
          "text": [
            "\n"
          ],
          "name": "stdout"
        },
        {
          "output_type": "display_data",
          "data": {
            "text/html": [
              "<div style=\"display:flex;flex-direction:row;\"><span>Epoch: 99/100. Iteration: 16/16. Cls loss: 0.01843. Reg loss: 0.08976. Batch loss: 0.10818 Total loss: 0.10928</span><progress style='margin:2px 4px;description_width:initial;' max='16' value='16'></progress>100% 16/16 [00:29&lt;00:00,  1.82s/it]</div>"
            ],
            "text/plain": [
              "<tqdm._fake_ipywidgets.HBox object>"
            ]
          },
          "metadata": {
            "tags": []
          }
        },
        {
          "output_type": "stream",
          "text": [
            "\n"
          ],
          "name": "stdout"
        },
        {
          "output_type": "display_data",
          "data": {
            "text/html": [
              "<div style=\"display:flex;flex-direction:row;\"><span>Epoch: 100/100. Iteration: 16/16. Cls loss: 0.02127. Reg loss: 0.10358. Batch loss: 0.12485 Total loss: 0.11588</span><progress style='margin:2px 4px;description_width:initial;' max='16' value='16'></progress>100% 16/16 [00:29&lt;00:00,  1.81s/it]</div>"
            ],
            "text/plain": [
              "<tqdm._fake_ipywidgets.HBox object>"
            ]
          },
          "metadata": {
            "tags": []
          }
        },
        {
          "output_type": "stream",
          "text": [
            "\n",
            "CPU times: user 1h 1min 20s, sys: 1min 42s, total: 1h 3min 2s\n",
            "Wall time: 1h 5min 15s\n"
          ],
          "name": "stdout"
        }
      ]
    },
    {
      "cell_type": "markdown",
      "metadata": {
        "id": "LS0pKdfd_Qjl"
      },
      "source": [
        "# Inference"
      ]
    },
    {
      "cell_type": "code",
      "metadata": {
        "id": "Q_i_WH1V_s5F"
      },
      "source": [
        "COCO_CLASSES = [\"person\", \"bicycle\", \"car\", \"motorcycle\", \"airplane\", \"bus\", \"train\", \"truck\", \"boat\",\n",
        "                \"traffic light\", \"fire hydrant\", \"stop sign\", \"parking meter\", \"bench\", \"bird\", \"cat\", \"dog\",\n",
        "                \"horse\", \"sheep\", \"cow\", \"elephant\", \"bear\", \"zebra\", \"giraffe\", \"backpack\", \"umbrella\",\n",
        "                \"handbag\", \"tie\", \"suitcase\", \"frisbee\", \"skis\", \"snowboard\", \"sports ball\", \"kite\",\n",
        "                \"baseball bat\", \"baseball glove\", \"skateboard\", \"surfboard\", \"tennis racket\", \"bottle\",\n",
        "                \"wine glass\", \"cup\", \"fork\", \"knife\", \"spoon\", \"bowl\", \"banana\", \"apple\", \"sandwich\", \"orange\",\n",
        "                \"broccoli\", \"carrot\", \"hot dog\", \"pizza\", \"donut\", \"cake\", \"chair\", \"couch\", \"potted plant\",\n",
        "                \"bed\", \"dining table\", \"toilet\", \"tv\", \"laptop\", \"mouse\", \"remote\", \"keyboard\", \"cell phone\",\n",
        "                \"microwave\", \"oven\", \"toaster\", \"sink\", \"refrigerator\", \"book\", \"clock\", \"vase\", \"scissors\",\n",
        "                \"teddy bear\", \"hair drier\", \"toothbrush\"]\n",
        "\n",
        "colors = [(39, 129, 113), (164, 80, 133), (83, 122, 114), (99, 81, 172), (95, 56, 104), (37, 84, 86), (14, 89, 122),\n",
        "          (80, 7, 65), (10, 102, 25), (90, 185, 109), (106, 110, 132), (169, 158, 85), (188, 185, 26), (103, 1, 17),\n",
        "          (82, 144, 81), (92, 7, 184), (49, 81, 155), (179, 177, 69), (93, 187, 158), (13, 39, 73), (12, 50, 60),\n",
        "          (16, 179, 33), (112, 69, 165), (15, 139, 63), (33, 191, 159), (182, 173, 32), (34, 113, 133), (90, 135, 34),\n",
        "          (53, 34, 86), (141, 35, 190), (6, 171, 8), (118, 76, 112), (89, 60, 55), (15, 54, 88), (112, 75, 181),\n",
        "          (42, 147, 38), (138, 52, 63), (128, 65, 149), (106, 103, 24), (168, 33, 45), (28, 136, 135), (86, 91, 108),\n",
        "          (52, 11, 76), (142, 6, 189), (57, 81, 168), (55, 19, 148), (182, 101, 89), (44, 65, 179), (1, 33, 26),\n",
        "          (122, 164, 26), (70, 63, 134), (137, 106, 82), (120, 118, 52), (129, 74, 42), (182, 147, 112), (22, 157, 50),\n",
        "          (56, 50, 20), (2, 22, 177), (156, 100, 106), (21, 35, 42), (13, 8, 121), (142, 92, 28), (45, 118, 33),\n",
        "          (105, 118, 30), (7, 185, 124), (46, 34, 146), (105, 184, 169), (22, 18, 5), (147, 71, 73), (181, 64, 91),\n",
        "          (31, 39, 184), (164, 179, 33), (96, 50, 18), (95, 15, 106), (113, 68, 54), (136, 116, 112), (119, 139, 130),\n",
        "          (31, 139, 34), (66, 6, 127), (62, 39, 2), (49, 99, 180), (49, 119, 155), (153, 50, 183), (125, 38, 3),\n",
        "          (129, 87, 143), (49, 87, 40), (128, 62, 120), (73, 85, 148), (28, 144, 118), (29, 9, 24), (175, 45, 108),\n",
        "          (81, 175, 64), (178, 19, 157), (74, 188, 190), (18, 114, 2), (62, 128, 96), (21, 3, 150), (0, 6, 95),\n",
        "          (2, 20, 184), (122, 37, 185)]\n"
      ],
      "execution_count": null,
      "outputs": []
    },
    {
      "cell_type": "code",
      "metadata": {
        "id": "22M37JrN_XO4"
      },
      "source": [
        "import os\n",
        "import argparse\n",
        "import torch\n",
        "import torch.nn as nn\n",
        "from torch.utils.data import DataLoader\n",
        "from torchvision import transforms\n",
        "from tensorboardX import SummaryWriter\n",
        "import shutil\n",
        "import numpy as np\n",
        "from tqdm.autonotebook import tqdm\n",
        "import cv2\n",
        "import time as time\n",
        "\n",
        "class Infer():\n",
        "    def __init__(self, verbose=1):\n",
        "        self.system_dict = {};\n",
        "        self.system_dict[\"verbose\"] = verbose;\n",
        "        self.system_dict[\"local\"] = {};\n",
        "        self.system_dict[\"local\"][\"common_size\"] = 512;\n",
        "        self.system_dict[\"local\"][\"mean\"] = np.array([[[0.485, 0.456, 0.406]]])\n",
        "        self.system_dict[\"local\"][\"std\"] = np.array([[[0.229, 0.224, 0.225]]])\n",
        "\n",
        "    def Model(self, model_dir=\"drive/MyDrive/trained/\"):\n",
        "        self.system_dict[\"local\"][\"model\"] = torch.load(model_dir + \"/signatrix_efficientdet_coco.pth\").module\n",
        "        if torch.cuda.is_available():\n",
        "            self.system_dict[\"local\"][\"model\"] = self.system_dict[\"local\"][\"model\"].cuda();\n",
        "\n",
        "    def Predict(self, img_path, class_list, vis_threshold = 0.4,output_folder = 'Inference'):\n",
        "\n",
        "        if not os.path.exists(output_folder):\n",
        "            os.makedirs(output_folder)\n",
        "        \n",
        "        image_filename = os.path.basename(img_path)\n",
        "        img = cv2.imread(img_path);\n",
        "        img = cv2.cvtColor(img, cv2.COLOR_BGR2RGB);\n",
        "        image = img.astype(np.float32) / 255.;\n",
        "        image = (image.astype(np.float32) - self.system_dict[\"local\"][\"mean\"]) / self.system_dict[\"local\"][\"std\"]\n",
        "        height, width, _ = image.shape\n",
        "        if height > width:\n",
        "            scale = self.system_dict[\"local\"][\"common_size\"] / height\n",
        "            resized_height = self.system_dict[\"local\"][\"common_size\"]\n",
        "            resized_width = int(width * scale)\n",
        "        else:\n",
        "            scale = self.system_dict[\"local\"][\"common_size\"] / width\n",
        "            resized_height = int(height * scale)\n",
        "            resized_width = self.system_dict[\"local\"][\"common_size\"]\n",
        "\n",
        "        image = cv2.resize(image, (resized_width, resized_height))\n",
        "\n",
        "        new_image = np.zeros((self.system_dict[\"local\"][\"common_size\"], self.system_dict[\"local\"][\"common_size\"], 3))\n",
        "        new_image[0:resized_height, 0:resized_width] = image\n",
        "\n",
        "        img = torch.from_numpy(new_image)\n",
        "        \n",
        "        t0 = time.time()\n",
        "        with torch.no_grad():\n",
        "            if torch.cuda.is_available():\n",
        "                scores, labels, boxes = self.system_dict[\"local\"][\"model\"](img.cuda().permute(2, 0, 1).float().unsqueeze(dim=0))\n",
        "            else:\n",
        "                scores, labels, boxes = self.system_dict[\"local\"][\"model\"](img.permute(2, 0, 1).float().unsqueeze(dim=0))              \n",
        "            boxes /= scale;\n",
        "        duration = time.time() - t0\n",
        "        print('Done. (%.3fs)' % (time.time() - t0))\n",
        "\n",
        "\n",
        "        try:\n",
        "            if boxes.shape[0] > 0:\n",
        "                output_image = cv2.imread(img_path)\n",
        "\n",
        "                for box_id in range(boxes.shape[0]):\n",
        "                    pred_prob = float(scores[box_id])\n",
        "                    if pred_prob < vis_threshold:\n",
        "                        break\n",
        "                    pred_label = int(labels[box_id])\n",
        "                    xmin, ymin, xmax, ymax = boxes[box_id, :]\n",
        "                    color = colors[pred_label]\n",
        "                    cv2.rectangle(output_image, (xmin, ymin), (xmax, ymax), color, 2)\n",
        "                    text_size = cv2.getTextSize(class_list[pred_label] + ' : %.2f' % pred_prob, cv2.FONT_HERSHEY_PLAIN, 1, 1)[0]\n",
        "\n",
        "                    cv2.rectangle(output_image, (xmin, ymin), (xmin + text_size[0] + 3, ymin + text_size[1] + 4), color, -1)\n",
        "                    cv2.putText(\n",
        "                        output_image, class_list[pred_label] + ' : %.2f' % pred_prob,\n",
        "                        (xmin, ymin + text_size[1] + 4), cv2.FONT_HERSHEY_PLAIN, 1,\n",
        "                        (255, 255, 255), 1)\n",
        "\n",
        "            #cv2.imwrite(os.path.join(output_folder, image_filename), output_image)\n",
        "            #cv2.imwrite(\"output.jpg\", output_image)\n",
        "            return duration, scores, labels, boxes\n",
        "        \n",
        "        except:\n",
        "            print(\"NO Object Detected\")\n",
        "            return None\n",
        "\n",
        "    def predict_batch_of_images(self, img_folder, class_list, vis_threshold = 0.4, output_folder='Inference'):\n",
        "        \n",
        "        all_filenames = os.listdir(img_folder)\n",
        "        all_filenames.sort()\n",
        "        generated_count = 0\n",
        "        for filename in all_filenames:\n",
        "            img_path = \"{}/{}\".format(img_folder, filename)\n",
        "            try:\n",
        "                self.Predict(img_path , class_list, vis_threshold ,output_folder)\n",
        "                generated_count += 1\n",
        "            except:\n",
        "                continue\n",
        "        print(\"Objects detected  for {} images\".format(generated_count))"
      ],
      "execution_count": null,
      "outputs": []
    },
    {
      "cell_type": "code",
      "metadata": {
        "id": "YL6ttyUMAH0x",
        "colab": {
          "base_uri": "https://localhost:8080/",
          "height": 320
        },
        "outputId": "86b94d59-5101-418e-83cb-4aa6a507030f"
      },
      "source": [
        "gtf = Infer()\n",
        "gtf.Model(model_dir=\"drive/MyDrive/trained_weight/\")\n"
      ],
      "execution_count": null,
      "outputs": [
        {
          "output_type": "error",
          "ename": "AttributeError",
          "evalue": "ignored",
          "traceback": [
            "\u001b[0;31m---------------------------------------------------------------------------\u001b[0m",
            "\u001b[0;31mAttributeError\u001b[0m                            Traceback (most recent call last)",
            "\u001b[0;32m<ipython-input-9-4ac2ce5f0222>\u001b[0m in \u001b[0;36m<module>\u001b[0;34m()\u001b[0m\n\u001b[1;32m      1\u001b[0m \u001b[0mgtf\u001b[0m \u001b[0;34m=\u001b[0m \u001b[0mInfer\u001b[0m\u001b[0;34m(\u001b[0m\u001b[0;34m)\u001b[0m\u001b[0;34m\u001b[0m\u001b[0;34m\u001b[0m\u001b[0m\n\u001b[0;32m----> 2\u001b[0;31m \u001b[0mgtf\u001b[0m\u001b[0;34m.\u001b[0m\u001b[0mModel\u001b[0m\u001b[0;34m(\u001b[0m\u001b[0mmodel_dir\u001b[0m\u001b[0;34m=\u001b[0m\u001b[0;34m\"drive/MyDrive/trained_weight/\"\u001b[0m\u001b[0;34m)\u001b[0m\u001b[0;34m\u001b[0m\u001b[0;34m\u001b[0m\u001b[0m\n\u001b[0m",
            "\u001b[0;32m<ipython-input-8-c78dc3e08e7f>\u001b[0m in \u001b[0;36mModel\u001b[0;34m(self, model_dir)\u001b[0m\n\u001b[1;32m     22\u001b[0m \u001b[0;34m\u001b[0m\u001b[0m\n\u001b[1;32m     23\u001b[0m     \u001b[0;32mdef\u001b[0m \u001b[0mModel\u001b[0m\u001b[0;34m(\u001b[0m\u001b[0mself\u001b[0m\u001b[0;34m,\u001b[0m \u001b[0mmodel_dir\u001b[0m\u001b[0;34m=\u001b[0m\u001b[0;34m\"drive/MyDrive/trained/\"\u001b[0m\u001b[0;34m)\u001b[0m\u001b[0;34m:\u001b[0m\u001b[0;34m\u001b[0m\u001b[0;34m\u001b[0m\u001b[0m\n\u001b[0;32m---> 24\u001b[0;31m         \u001b[0mself\u001b[0m\u001b[0;34m.\u001b[0m\u001b[0msystem_dict\u001b[0m\u001b[0;34m[\u001b[0m\u001b[0;34m\"local\"\u001b[0m\u001b[0;34m]\u001b[0m\u001b[0;34m[\u001b[0m\u001b[0;34m\"model\"\u001b[0m\u001b[0;34m]\u001b[0m \u001b[0;34m=\u001b[0m \u001b[0mtorch\u001b[0m\u001b[0;34m.\u001b[0m\u001b[0mload\u001b[0m\u001b[0;34m(\u001b[0m\u001b[0mmodel_dir\u001b[0m \u001b[0;34m+\u001b[0m \u001b[0;34m\"/signatrix_efficientdet_coco.pth\"\u001b[0m\u001b[0;34m)\u001b[0m\u001b[0;34m.\u001b[0m\u001b[0mmodule\u001b[0m\u001b[0;34m\u001b[0m\u001b[0;34m\u001b[0m\u001b[0m\n\u001b[0m\u001b[1;32m     25\u001b[0m         \u001b[0;32mif\u001b[0m \u001b[0mtorch\u001b[0m\u001b[0;34m.\u001b[0m\u001b[0mcuda\u001b[0m\u001b[0;34m.\u001b[0m\u001b[0mis_available\u001b[0m\u001b[0;34m(\u001b[0m\u001b[0;34m)\u001b[0m\u001b[0;34m:\u001b[0m\u001b[0;34m\u001b[0m\u001b[0;34m\u001b[0m\u001b[0m\n\u001b[1;32m     26\u001b[0m             \u001b[0mself\u001b[0m\u001b[0;34m.\u001b[0m\u001b[0msystem_dict\u001b[0m\u001b[0;34m[\u001b[0m\u001b[0;34m\"local\"\u001b[0m\u001b[0;34m]\u001b[0m\u001b[0;34m[\u001b[0m\u001b[0;34m\"model\"\u001b[0m\u001b[0;34m]\u001b[0m \u001b[0;34m=\u001b[0m \u001b[0mself\u001b[0m\u001b[0;34m.\u001b[0m\u001b[0msystem_dict\u001b[0m\u001b[0;34m[\u001b[0m\u001b[0;34m\"local\"\u001b[0m\u001b[0;34m]\u001b[0m\u001b[0;34m[\u001b[0m\u001b[0;34m\"model\"\u001b[0m\u001b[0;34m]\u001b[0m\u001b[0;34m.\u001b[0m\u001b[0mcuda\u001b[0m\u001b[0;34m(\u001b[0m\u001b[0;34m)\u001b[0m\u001b[0;34m;\u001b[0m\u001b[0;34m\u001b[0m\u001b[0;34m\u001b[0m\u001b[0m\n",
            "\u001b[0;32m/usr/local/lib/python3.7/dist-packages/torch/serialization.py\u001b[0m in \u001b[0;36mload\u001b[0;34m(f, map_location, pickle_module, **pickle_load_args)\u001b[0m\n\u001b[1;32m    590\u001b[0m                     \u001b[0mopened_file\u001b[0m\u001b[0;34m.\u001b[0m\u001b[0mseek\u001b[0m\u001b[0;34m(\u001b[0m\u001b[0morig_position\u001b[0m\u001b[0;34m)\u001b[0m\u001b[0;34m\u001b[0m\u001b[0;34m\u001b[0m\u001b[0m\n\u001b[1;32m    591\u001b[0m                     \u001b[0;32mreturn\u001b[0m \u001b[0mtorch\u001b[0m\u001b[0;34m.\u001b[0m\u001b[0mjit\u001b[0m\u001b[0;34m.\u001b[0m\u001b[0mload\u001b[0m\u001b[0;34m(\u001b[0m\u001b[0mopened_file\u001b[0m\u001b[0;34m)\u001b[0m\u001b[0;34m\u001b[0m\u001b[0;34m\u001b[0m\u001b[0m\n\u001b[0;32m--> 592\u001b[0;31m                 \u001b[0;32mreturn\u001b[0m \u001b[0m_load\u001b[0m\u001b[0;34m(\u001b[0m\u001b[0mopened_zipfile\u001b[0m\u001b[0;34m,\u001b[0m \u001b[0mmap_location\u001b[0m\u001b[0;34m,\u001b[0m \u001b[0mpickle_module\u001b[0m\u001b[0;34m,\u001b[0m \u001b[0;34m**\u001b[0m\u001b[0mpickle_load_args\u001b[0m\u001b[0;34m)\u001b[0m\u001b[0;34m\u001b[0m\u001b[0;34m\u001b[0m\u001b[0m\n\u001b[0m\u001b[1;32m    593\u001b[0m         \u001b[0;32mreturn\u001b[0m \u001b[0m_legacy_load\u001b[0m\u001b[0;34m(\u001b[0m\u001b[0mopened_file\u001b[0m\u001b[0;34m,\u001b[0m \u001b[0mmap_location\u001b[0m\u001b[0;34m,\u001b[0m \u001b[0mpickle_module\u001b[0m\u001b[0;34m,\u001b[0m \u001b[0;34m**\u001b[0m\u001b[0mpickle_load_args\u001b[0m\u001b[0;34m)\u001b[0m\u001b[0;34m\u001b[0m\u001b[0;34m\u001b[0m\u001b[0m\n\u001b[1;32m    594\u001b[0m \u001b[0;34m\u001b[0m\u001b[0m\n",
            "\u001b[0;32m/usr/local/lib/python3.7/dist-packages/torch/serialization.py\u001b[0m in \u001b[0;36m_load\u001b[0;34m(zip_file, map_location, pickle_module, pickle_file, **pickle_load_args)\u001b[0m\n\u001b[1;32m    849\u001b[0m     \u001b[0munpickler\u001b[0m \u001b[0;34m=\u001b[0m \u001b[0mpickle_module\u001b[0m\u001b[0;34m.\u001b[0m\u001b[0mUnpickler\u001b[0m\u001b[0;34m(\u001b[0m\u001b[0mdata_file\u001b[0m\u001b[0;34m,\u001b[0m \u001b[0;34m**\u001b[0m\u001b[0mpickle_load_args\u001b[0m\u001b[0;34m)\u001b[0m\u001b[0;34m\u001b[0m\u001b[0;34m\u001b[0m\u001b[0m\n\u001b[1;32m    850\u001b[0m     \u001b[0munpickler\u001b[0m\u001b[0;34m.\u001b[0m\u001b[0mpersistent_load\u001b[0m \u001b[0;34m=\u001b[0m \u001b[0mpersistent_load\u001b[0m\u001b[0;34m\u001b[0m\u001b[0;34m\u001b[0m\u001b[0m\n\u001b[0;32m--> 851\u001b[0;31m     \u001b[0mresult\u001b[0m \u001b[0;34m=\u001b[0m \u001b[0munpickler\u001b[0m\u001b[0;34m.\u001b[0m\u001b[0mload\u001b[0m\u001b[0;34m(\u001b[0m\u001b[0;34m)\u001b[0m\u001b[0;34m\u001b[0m\u001b[0;34m\u001b[0m\u001b[0m\n\u001b[0m\u001b[1;32m    852\u001b[0m \u001b[0;34m\u001b[0m\u001b[0m\n\u001b[1;32m    853\u001b[0m     \u001b[0mtorch\u001b[0m\u001b[0;34m.\u001b[0m\u001b[0m_utils\u001b[0m\u001b[0;34m.\u001b[0m\u001b[0m_validate_loaded_sparse_tensors\u001b[0m\u001b[0;34m(\u001b[0m\u001b[0;34m)\u001b[0m\u001b[0;34m\u001b[0m\u001b[0;34m\u001b[0m\u001b[0m\n",
            "\u001b[0;31mAttributeError\u001b[0m: Can't get attribute 'EfficientDet' on <module '__main__'>"
          ]
        }
      ]
    },
    {
      "cell_type": "code",
      "metadata": {
        "colab": {
          "base_uri": "https://localhost:8080/"
        },
        "id": "foy8ObZrANZ3",
        "outputId": "1e603940-cd9a-441d-f83c-16c60984d3cf"
      },
      "source": [
        "#extract class list from our annotations\n",
        "import json\n",
        "with open('space/train/_annotations.coco.json') as json_file:\n",
        "    data = json.load(json_file)\n",
        "class_list = []\n",
        "for category in data['categories']:\n",
        "  class_list.append(category['name'])\n",
        "\n",
        "class_list"
      ],
      "execution_count": null,
      "outputs": [
        {
          "output_type": "execute_result",
          "data": {
            "text/plain": [
              "['A', 'Astroid', 'Space_craft']"
            ]
          },
          "metadata": {
            "tags": []
          },
          "execution_count": 20
        }
      ]
    },
    {
      "cell_type": "code",
      "metadata": {
        "colab": {
          "base_uri": "https://localhost:8080/",
          "height": 229
        },
        "id": "97mjPLMMANdP",
        "outputId": "60bf6c93-1f58-4067-995a-98ac5d3724de"
      },
      "source": [
        "test_images = [f for f in os.listdir('space/test') if f.endswith('.jpg')]\n",
        "import random\n",
        "img_path = \"space/test/\" + random.choice(test_images);\n",
        "#img_path = \"space/test/\" +\"trial.jpg\";\n",
        "\n",
        "#img_path=\"Downloads/trial.jpg\";\n",
        "duration, scores, labels, boxes = gtf.Predict(img_path, class_list, vis_threshold=0.2)"
      ],
      "execution_count": null,
      "outputs": [
        {
          "output_type": "error",
          "ename": "NameError",
          "evalue": "ignored",
          "traceback": [
            "\u001b[0;31m---------------------------------------------------------------------------\u001b[0m",
            "\u001b[0;31mNameError\u001b[0m                                 Traceback (most recent call last)",
            "\u001b[0;32m<ipython-input-1-888a48adfa29>\u001b[0m in \u001b[0;36m<module>\u001b[0;34m()\u001b[0m\n\u001b[0;32m----> 1\u001b[0;31m \u001b[0mtest_images\u001b[0m \u001b[0;34m=\u001b[0m \u001b[0;34m[\u001b[0m\u001b[0mf\u001b[0m \u001b[0;32mfor\u001b[0m \u001b[0mf\u001b[0m \u001b[0;32min\u001b[0m \u001b[0mos\u001b[0m\u001b[0;34m.\u001b[0m\u001b[0mlistdir\u001b[0m\u001b[0;34m(\u001b[0m\u001b[0;34m'space/test'\u001b[0m\u001b[0;34m)\u001b[0m \u001b[0;32mif\u001b[0m \u001b[0mf\u001b[0m\u001b[0;34m.\u001b[0m\u001b[0mendswith\u001b[0m\u001b[0;34m(\u001b[0m\u001b[0;34m'.jpg'\u001b[0m\u001b[0;34m)\u001b[0m\u001b[0;34m]\u001b[0m\u001b[0;34m\u001b[0m\u001b[0;34m\u001b[0m\u001b[0m\n\u001b[0m\u001b[1;32m      2\u001b[0m \u001b[0;32mimport\u001b[0m \u001b[0mrandom\u001b[0m\u001b[0;34m\u001b[0m\u001b[0;34m\u001b[0m\u001b[0m\n\u001b[1;32m      3\u001b[0m \u001b[0mimg_path\u001b[0m \u001b[0;34m=\u001b[0m \u001b[0;34m\"space/test/\"\u001b[0m \u001b[0;34m+\u001b[0m \u001b[0mrandom\u001b[0m\u001b[0;34m.\u001b[0m\u001b[0mchoice\u001b[0m\u001b[0;34m(\u001b[0m\u001b[0mtest_images\u001b[0m\u001b[0;34m)\u001b[0m\u001b[0;34m;\u001b[0m\u001b[0;34m\u001b[0m\u001b[0;34m\u001b[0m\u001b[0m\n\u001b[1;32m      4\u001b[0m \u001b[0;31m#img_path = \"space/test/\" +\"trial.jpg\";\u001b[0m\u001b[0;34m\u001b[0m\u001b[0;34m\u001b[0m\u001b[0;34m\u001b[0m\u001b[0m\n\u001b[1;32m      5\u001b[0m \u001b[0;34m\u001b[0m\u001b[0m\n",
            "\u001b[0;31mNameError\u001b[0m: name 'os' is not defined"
          ]
        }
      ]
    },
    {
      "cell_type": "code",
      "metadata": {
        "id": "kk2-nJh1ZjNt"
      },
      "source": [
        "pred = {}\n",
        "pred['boxes'] = boxes\n",
        "pred['scores'] = scores\n",
        "pred['labels'] = labels"
      ],
      "execution_count": null,
      "outputs": []
    },
    {
      "cell_type": "code",
      "metadata": {
        "id": "uiLEi4OVZRQ0"
      },
      "source": [
        "import torchvision\n",
        "\n",
        "def apply_nms(orig_prediction, iou_thresh=0.3):\n",
        "    \n",
        "    # torchvision returns the indices of the bboxes to keep\n",
        "    keep = torchvision.ops.nms(orig_prediction['boxes'], orig_prediction['scores'], iou_thresh)\n",
        "    \n",
        "    final_prediction = orig_prediction\n",
        "    final_prediction['boxes'] = final_prediction['boxes'][keep]\n",
        "    final_prediction['scores'] = final_prediction['scores'][keep]\n",
        "    final_prediction['labels'] = final_prediction['labels'][keep]\n",
        "    \n",
        "    return final_prediction\n",
        "\n",
        "pred = apply_nms(pred, iou_thresh=0.01)"
      ],
      "execution_count": null,
      "outputs": []
    },
    {
      "cell_type": "code",
      "metadata": {
        "colab": {
          "base_uri": "https://localhost:8080/",
          "height": 410
        },
        "id": "gXjHVR7TYsAX",
        "outputId": "99a9d462-6128-431c-a43b-e2a683862e2c"
      },
      "source": [
        "import matplotlib.pyplot as plt\n",
        "import matplotlib.patches as patches\n",
        "plt.rcParams['text.color'] = 'white'\n",
        "img = cv2.imread(img_path)\n",
        "img = cv2.cvtColor(img, cv2.COLOR_BGR2RGB)\n",
        "\n",
        "fig, a = plt.subplots(1,1)\n",
        "fig.set_size_inches(5,5)\n",
        "a.imshow(img)\n",
        "for (box, label, score) in zip(pred['boxes'], pred['labels'], pred['scores']):\n",
        "    x, y, width, height  = box[0], box[1], box[2]-box[0], box[3]-box[1]\n",
        "    rect = patches.Rectangle((x, y),\n",
        "                                width, height,\n",
        "                                linewidth = 1,\n",
        "                                edgecolor = 'g',\n",
        "                                facecolor = 'none')\n",
        "\n",
        "    s = class_list[label.cpu().numpy()] + ' ({})'.format(score.item())\n",
        "    print(s)\n",
        "    a.text(x-5, y-5, s)\n",
        "\n",
        "    # Draw the bounding box on top of the image\n",
        "    a.add_patch(rect)\n",
        "plt.show()"
      ],
      "execution_count": null,
      "outputs": [
        {
          "output_type": "stream",
          "text": [
            "Space_craft (0.8616958260536194)\n",
            "Astroid (0.660862386226654)\n",
            "Astroid (0.646281361579895)\n",
            "Astroid (0.5755127668380737)\n",
            "Space_craft (0.06687666475772858)\n"
          ],
          "name": "stdout"
        },
        {
          "output_type": "display_data",
          "data": {
            "image/png": "[encoded data removed]",
            "text/plain": [
              "<Figure size 360x360 with 1 Axes>"
            ]
          },
          "metadata": {
            "tags": [],
            "needs_background": "light"
          }
        }
      ]
    },
    {
      "cell_type": "code",
      "metadata": {
        "id": "7WcrVN8FkEs4"
      },
      "source": [
        ""
      ],
      "execution_count": null,
      "outputs": []
    }
  ]
}